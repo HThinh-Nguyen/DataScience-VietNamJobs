{
 "cells": [
  {
   "cell_type": "code",
   "execution_count": 7,
   "metadata": {},
   "outputs": [
    {
     "ename": "AttributeError",
     "evalue": "'Translator' object has no attribute 'raise_Exception'",
     "output_type": "error",
     "traceback": [
      "\u001b[1;31m---------------------------------------------------------------------------\u001b[0m",
      "\u001b[1;31mAttributeError\u001b[0m                            Traceback (most recent call last)",
      "\u001b[1;32mc:\\Users\\ADMIN\\Processing\\DataScience-VietNamJobs\\test\\test.ipynb Cell 1\u001b[0m in \u001b[0;36m<cell line: 10>\u001b[1;34m()\u001b[0m\n\u001b[0;32m      <a href='vscode-notebook-cell:/c%3A/Users/ADMIN/Processing/DataScience-VietNamJobs/test/test.ipynb#W0sZmlsZQ%3D%3D?line=7'>8</a>\u001b[0m \u001b[39m# Example usage\u001b[39;00m\n\u001b[0;32m      <a href='vscode-notebook-cell:/c%3A/Users/ADMIN/Processing/DataScience-VietNamJobs/test/test.ipynb#W0sZmlsZQ%3D%3D?line=8'>9</a>\u001b[0m english_text \u001b[39m=\u001b[39m \u001b[39m\"\u001b[39m\u001b[39mMarketing Materials Strategy\u001b[39m\u001b[39m\"\u001b[39m\n\u001b[1;32m---> <a href='vscode-notebook-cell:/c%3A/Users/ADMIN/Processing/DataScience-VietNamJobs/test/test.ipynb#W0sZmlsZQ%3D%3D?line=9'>10</a>\u001b[0m vietnamese_translation \u001b[39m=\u001b[39m translate_english_to_vietnamese(english_text)\n\u001b[0;32m     <a href='vscode-notebook-cell:/c%3A/Users/ADMIN/Processing/DataScience-VietNamJobs/test/test.ipynb#W0sZmlsZQ%3D%3D?line=10'>11</a>\u001b[0m \u001b[39mprint\u001b[39m(vietnamese_translation)\n",
      "\u001b[1;32mc:\\Users\\ADMIN\\Processing\\DataScience-VietNamJobs\\test\\test.ipynb Cell 1\u001b[0m in \u001b[0;36mtranslate_english_to_vietnamese\u001b[1;34m(text)\u001b[0m\n\u001b[0;32m      <a href='vscode-notebook-cell:/c%3A/Users/ADMIN/Processing/DataScience-VietNamJobs/test/test.ipynb#W0sZmlsZQ%3D%3D?line=2'>3</a>\u001b[0m \u001b[39mdef\u001b[39;00m \u001b[39mtranslate_english_to_vietnamese\u001b[39m(text):\n\u001b[0;32m      <a href='vscode-notebook-cell:/c%3A/Users/ADMIN/Processing/DataScience-VietNamJobs/test/test.ipynb#W0sZmlsZQ%3D%3D?line=3'>4</a>\u001b[0m     translator \u001b[39m=\u001b[39m Translator(service_urls\u001b[39m=\u001b[39m[\u001b[39m'\u001b[39m\u001b[39mtranslate.google.com\u001b[39m\u001b[39m'\u001b[39m])\n\u001b[1;32m----> <a href='vscode-notebook-cell:/c%3A/Users/ADMIN/Processing/DataScience-VietNamJobs/test/test.ipynb#W0sZmlsZQ%3D%3D?line=4'>5</a>\u001b[0m     translation \u001b[39m=\u001b[39m translator\u001b[39m.\u001b[39;49mtranslate(text, src\u001b[39m=\u001b[39;49m\u001b[39m'\u001b[39;49m\u001b[39men\u001b[39;49m\u001b[39m'\u001b[39;49m, dest\u001b[39m=\u001b[39;49m\u001b[39m'\u001b[39;49m\u001b[39mvi\u001b[39;49m\u001b[39m'\u001b[39;49m)\n\u001b[0;32m      <a href='vscode-notebook-cell:/c%3A/Users/ADMIN/Processing/DataScience-VietNamJobs/test/test.ipynb#W0sZmlsZQ%3D%3D?line=5'>6</a>\u001b[0m     \u001b[39mreturn\u001b[39;00m translation\u001b[39m.\u001b[39mtext\n",
      "File \u001b[1;32mc:\\Python\\Python39\\lib\\site-packages\\googletrans\\client.py:194\u001b[0m, in \u001b[0;36mTranslator.translate\u001b[1;34m(self, text, dest, src)\u001b[0m\n\u001b[0;32m    191\u001b[0m         \u001b[39mraise\u001b[39;00m \u001b[39mValueError\u001b[39;00m(\u001b[39m'\u001b[39m\u001b[39minvalid destination language\u001b[39m\u001b[39m'\u001b[39m)\n\u001b[0;32m    193\u001b[0m origin \u001b[39m=\u001b[39m text\n\u001b[1;32m--> 194\u001b[0m data, response \u001b[39m=\u001b[39m \u001b[39mself\u001b[39;49m\u001b[39m.\u001b[39;49m_translate(text, dest, src)\n\u001b[0;32m    196\u001b[0m token_found \u001b[39m=\u001b[39m \u001b[39mFalse\u001b[39;00m\n\u001b[0;32m    197\u001b[0m square_bracket_counts \u001b[39m=\u001b[39m [\u001b[39m0\u001b[39m, \u001b[39m0\u001b[39m]\n",
      "File \u001b[1;32mc:\\Python\\Python39\\lib\\site-packages\\googletrans\\client.py:122\u001b[0m, in \u001b[0;36mTranslator._translate\u001b[1;34m(self, text, dest, src)\u001b[0m\n\u001b[0;32m    112\u001b[0m params \u001b[39m=\u001b[39m {\n\u001b[0;32m    113\u001b[0m     \u001b[39m'\u001b[39m\u001b[39mrpcids\u001b[39m\u001b[39m'\u001b[39m: RPC_ID,\n\u001b[0;32m    114\u001b[0m     \u001b[39m'\u001b[39m\u001b[39mbl\u001b[39m\u001b[39m'\u001b[39m: \u001b[39m'\u001b[39m\u001b[39mboq_translate-webserver_20201207.13_p0\u001b[39m\u001b[39m'\u001b[39m,\n\u001b[1;32m   (...)\u001b[0m\n\u001b[0;32m    118\u001b[0m     \u001b[39m'\u001b[39m\u001b[39mrt\u001b[39m\u001b[39m'\u001b[39m: \u001b[39m'\u001b[39m\u001b[39mc\u001b[39m\u001b[39m'\u001b[39m,\n\u001b[0;32m    119\u001b[0m }\n\u001b[0;32m    120\u001b[0m r \u001b[39m=\u001b[39m \u001b[39mself\u001b[39m\u001b[39m.\u001b[39mclient\u001b[39m.\u001b[39mpost(url, params\u001b[39m=\u001b[39mparams, data\u001b[39m=\u001b[39mdata)\n\u001b[1;32m--> 122\u001b[0m \u001b[39mif\u001b[39;00m r\u001b[39m.\u001b[39mstatus_code \u001b[39m!=\u001b[39m \u001b[39m200\u001b[39m \u001b[39mand\u001b[39;00m \u001b[39mself\u001b[39;49m\u001b[39m.\u001b[39;49mraise_Exception:\n\u001b[0;32m    123\u001b[0m     \u001b[39mraise\u001b[39;00m \u001b[39mException\u001b[39;00m(\u001b[39m'\u001b[39m\u001b[39mUnexpected status code \u001b[39m\u001b[39m\"\u001b[39m\u001b[39m{}\u001b[39;00m\u001b[39m\"\u001b[39m\u001b[39m from \u001b[39m\u001b[39m{}\u001b[39;00m\u001b[39m'\u001b[39m\u001b[39m.\u001b[39mformat(\n\u001b[0;32m    124\u001b[0m         r\u001b[39m.\u001b[39mstatus_code, \u001b[39mself\u001b[39m\u001b[39m.\u001b[39mservice_urls))\n\u001b[0;32m    126\u001b[0m \u001b[39mreturn\u001b[39;00m r\u001b[39m.\u001b[39mtext, r\n",
      "\u001b[1;31mAttributeError\u001b[0m: 'Translator' object has no attribute 'raise_Exception'"
     ]
    }
   ],
   "source": [
    "from googletrans import Translator\n",
    "\n",
    "def translate_english_to_vietnamese(text):\n",
    "    translator = Translator(service_urls=['translate.google.com'])\n",
    "    translation = translator.translate(text, src='en', dest='vi')\n",
    "    return translation.text\n",
    "\n",
    "# Example usage\n",
    "english_text = \"Marketing Materials Strategy\"\n",
    "vietnamese_translation = translate_english_to_vietnamese(english_text)\n",
    "print(vietnamese_translation)"
   ]
  },
  {
   "cell_type": "code",
   "execution_count": 2,
   "metadata": {},
   "outputs": [
    {
     "name": "stdout",
     "output_type": "stream",
     "text": [
      "The text is in Vietnamese.\n"
     ]
    }
   ],
   "source": [
    "import langid\n",
    "\n",
    "def detect_language(text):\n",
    "    lang, confidence = langid.classify(text)\n",
    "    return lang\n",
    "\n",
    "# Example usage\n",
    "text = \"Xin chào, bạn khỏe không?\"\n",
    "language = detect_language(text)\n",
    "if language == 'vi':\n",
    "    print(\"The text is in Vietnamese.\")\n",
    "elif language == 'en':\n",
    "    print(\"The text is in English.\")\n",
    "else:\n",
    "    print(\"The language of the text could not be determined.\")"
   ]
  },
  {
   "cell_type": "code",
   "execution_count": 11,
   "metadata": {},
   "outputs": [
    {
     "name": "stdout",
     "output_type": "stream",
     "text": [
      "Collecting mtranslate\n",
      "  Downloading mtranslate-1.8.tar.gz (2.4 kB)\n",
      "  Preparing metadata (setup.py): started\n",
      "  Preparing metadata (setup.py): finished with status 'done'\n",
      "Building wheels for collected packages: mtranslate\n",
      "  Building wheel for mtranslate (setup.py): started\n",
      "  Building wheel for mtranslate (setup.py): finished with status 'done'\n",
      "  Created wheel for mtranslate: filename=mtranslate-1.8-py3-none-any.whl size=3704 sha256=2fc8e776dbca60287754670d4070563b164b423afd593f6ba5a528ff2776665d\n",
      "  Stored in directory: c:\\users\\admin\\appdata\\local\\pip\\cache\\wheels\\9c\\1e\\7d\\bb32989bd36c838253e65b584e7fb28b19b5c65bdf4180e1ba\n",
      "Successfully built mtranslate\n",
      "Installing collected packages: mtranslate\n",
      "Successfully installed mtranslate-1.8\n"
     ]
    },
    {
     "name": "stderr",
     "output_type": "stream",
     "text": [
      "\n",
      "[notice] A new release of pip available: 22.3.1 -> 23.2.1\n",
      "[notice] To update, run: python.exe -m pip install --upgrade pip\n"
     ]
    }
   ],
   "source": [
    "!pip install mtranslate"
   ]
  },
  {
   "cell_type": "code",
   "execution_count": 16,
   "metadata": {},
   "outputs": [
    {
     "name": "stdout",
     "output_type": "stream",
     "text": [
      "Hello\n",
      "Accounting\n",
      "How are you?\n",
      "Marketing Materials Strategy\n",
      "                           Text\n",
      "0                      Xin chào\n",
      "1                       Kế toán\n",
      "2            Bạn có khỏe không?\n",
      "3                        Cảm ơn\n",
      "4  Chiến lược tài liệu tiếp thị\n"
     ]
    }
   ],
   "source": [
    "import pandas as pd\n",
    "from mtranslate import translate\n",
    "import langid\n",
    "\n",
    "def translate_english_to_vietnamese(text):\n",
    "    lang, confidence = langid.classify(text)\n",
    "    if lang == 'en':\n",
    "        print(text)\n",
    "        try:\n",
    "            translation = translate(text, 'vi', 'en')\n",
    "            return translation\n",
    "        except Exception as e:\n",
    "            print(f\"Translation error: {e}\")\n",
    "            return text\n",
    "    else:\n",
    "        return text\n",
    "\n",
    "# Example DataFrame\n",
    "df = pd.DataFrame({'Text': ['Hello', 'Accounting', 'How are you?', 'Cảm ơn', 'Marketing Materials Strategy']})\n",
    "\n",
    "# Apply translation to the 'Text' column\n",
    "df['Text'] = df['Text'].apply(translate_english_to_vietnamese)\n",
    "\n",
    "print(df)"
   ]
  },
  {
   "cell_type": "code",
   "execution_count": 3,
   "metadata": {},
   "outputs": [
    {
     "data": {
      "text/plain": [
       "<pandas.core.groupby.generic.DataFrameGroupBy object at 0x000002135838C0D0>"
      ]
     },
     "execution_count": 3,
     "metadata": {},
     "output_type": "execute_result"
    }
   ],
   "source": [
    "import pandas as pd\n",
    "\n",
    "# Create a sample DataFrame with a multi-index\n",
    "data = {\n",
    "    'A': [1, 2, 3, 4, 5],\n",
    "    'B': [6, 7, 8, 9, 10],\n",
    "    'C': ['X', 'Y', 'Z', 'X', 'Y']\n",
    "}\n",
    "\n",
    "df = pd.DataFrame(data)\n",
    "df.set_index(['C', 'A'], inplace=True)\n",
    "\n",
    "# Perform multi-index groupby\n",
    "grouped = df.groupby(level='C')\n",
    "\n",
    "# # Iterate over the groups and access values and indices\n",
    "# for group_name, group_df in grouped:\n",
    "#     print(\"Group:\", group_name)\n",
    "#     print(\"Values:\")\n",
    "#     print(group_df)\n",
    "#     print(\"Indices:\")\n",
    "#     print(group_df.index)\n",
    "#     print()\n",
    "grouped"
   ]
  }
 ],
 "metadata": {
  "kernelspec": {
   "display_name": "Python 3",
   "language": "python",
   "name": "python3"
  },
  "language_info": {
   "codemirror_mode": {
    "name": "ipython",
    "version": 3
   },
   "file_extension": ".py",
   "mimetype": "text/x-python",
   "name": "python",
   "nbconvert_exporter": "python",
   "pygments_lexer": "ipython3",
   "version": "3.9.0"
  },
  "orig_nbformat": 4
 },
 "nbformat": 4,
 "nbformat_minor": 2
}
