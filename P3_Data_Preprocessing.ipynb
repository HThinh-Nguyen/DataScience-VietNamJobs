{
 "cells": [
  {
   "cell_type": "markdown",
   "metadata": {},
   "source": [
    "<h3> <b>Process 3: Data Preprocessing</b> </h3>\n",
    "\n",
    "<hr/>"
   ]
  },
  {
   "cell_type": "markdown",
   "metadata": {},
   "source": [
    "<h4> <b>Install & Import</b> </h4>"
   ]
  },
  {
   "cell_type": "markdown",
   "metadata": {},
   "source": [
    "Install & Import the necessary libraries."
   ]
  },
  {
   "cell_type": "code",
   "execution_count": 1,
   "metadata": {},
   "outputs": [],
   "source": [
    "# Install libraries"
   ]
  },
  {
   "cell_type": "code",
   "execution_count": 2,
   "metadata": {},
   "outputs": [],
   "source": [
    "# Import libraries\n",
    "import pandas as pd\n",
    "import ast"
   ]
  },
  {
   "cell_type": "markdown",
   "metadata": {},
   "source": [
    "<hr/>\n",
    "<h4> <b>Read data & Create dataframe</b> </h4>"
   ]
  },
  {
   "cell_type": "code",
   "execution_count": 3,
   "metadata": {},
   "outputs": [
    {
     "data": {
      "text/html": [
       "<div>\n",
       "<style scoped>\n",
       "    .dataframe tbody tr th:only-of-type {\n",
       "        vertical-align: middle;\n",
       "    }\n",
       "\n",
       "    .dataframe tbody tr th {\n",
       "        vertical-align: top;\n",
       "    }\n",
       "\n",
       "    .dataframe thead th {\n",
       "        text-align: right;\n",
       "    }\n",
       "</style>\n",
       "<table border=\"1\" class=\"dataframe\">\n",
       "  <thead>\n",
       "    <tr style=\"text-align: right;\">\n",
       "      <th></th>\n",
       "      <th>jobId</th>\n",
       "      <th>jobTitle</th>\n",
       "      <th>jobUrl</th>\n",
       "      <th>userId</th>\n",
       "      <th>companyLogo</th>\n",
       "      <th>alias</th>\n",
       "      <th>createdOn</th>\n",
       "      <th>approvedOn</th>\n",
       "      <th>expiredOn</th>\n",
       "      <th>lastUpdatedOn</th>\n",
       "      <th>...</th>\n",
       "      <th>isMobileHotJob</th>\n",
       "      <th>isMobileTopJob</th>\n",
       "      <th>isBoldAndRedJob</th>\n",
       "      <th>isUrgentJob</th>\n",
       "      <th>isUrgentJobM</th>\n",
       "      <th>onlineOn</th>\n",
       "      <th>visibilityDisplay</th>\n",
       "      <th>priorityOrder</th>\n",
       "      <th>nearestGeoLoc</th>\n",
       "      <th>profilePublishedSiteMask</th>\n",
       "    </tr>\n",
       "  </thead>\n",
       "  <tbody>\n",
       "    <tr>\n",
       "      <th>0</th>\n",
       "      <td>1680760</td>\n",
       "      <td>Nhân Viên Kinh Doanh MT - GT</td>\n",
       "      <td>NaN</td>\n",
       "      <td>7323468</td>\n",
       "      <td>NaN</td>\n",
       "      <td>nhan-vien-kinh-doanh-mt-gt-2</td>\n",
       "      <td>NaN</td>\n",
       "      <td>2023-08-11T11:22:45+07:00</td>\n",
       "      <td>2023-09-10T23:59:59+07:00</td>\n",
       "      <td>NaN</td>\n",
       "      <td>...</td>\n",
       "      <td>True</td>\n",
       "      <td>True</td>\n",
       "      <td>False</td>\n",
       "      <td>False</td>\n",
       "      <td>False</td>\n",
       "      <td>2023-08-11T11:22:45+07:00</td>\n",
       "      <td>False</td>\n",
       "      <td>2023-08-11T11:22:45</td>\n",
       "      <td>NaN</td>\n",
       "      <td>0</td>\n",
       "    </tr>\n",
       "    <tr>\n",
       "      <th>1</th>\n",
       "      <td>1680765</td>\n",
       "      <td>Social Media Specialist (Full Time/part-Time)</td>\n",
       "      <td>NaN</td>\n",
       "      <td>7320197</td>\n",
       "      <td>https://images.vietnamworks.com/pictureofcompa...</td>\n",
       "      <td>social-media-specialist-full-time-part-time</td>\n",
       "      <td>NaN</td>\n",
       "      <td>2023-08-11T11:20:32+07:00</td>\n",
       "      <td>2023-09-10T23:59:59+07:00</td>\n",
       "      <td>NaN</td>\n",
       "      <td>...</td>\n",
       "      <td>True</td>\n",
       "      <td>True</td>\n",
       "      <td>False</td>\n",
       "      <td>False</td>\n",
       "      <td>False</td>\n",
       "      <td>2023-08-11T11:20:32+07:00</td>\n",
       "      <td>False</td>\n",
       "      <td>2023-08-11T11:20:32</td>\n",
       "      <td>NaN</td>\n",
       "      <td>0</td>\n",
       "    </tr>\n",
       "    <tr>\n",
       "      <th>2</th>\n",
       "      <td>1680758</td>\n",
       "      <td>Kế Toán Tổng Hợp</td>\n",
       "      <td>NaN</td>\n",
       "      <td>7323468</td>\n",
       "      <td>NaN</td>\n",
       "      <td>ke-toan-tong-hop-5140</td>\n",
       "      <td>NaN</td>\n",
       "      <td>2023-08-11T11:17:28+07:00</td>\n",
       "      <td>2023-09-10T23:59:59+07:00</td>\n",
       "      <td>NaN</td>\n",
       "      <td>...</td>\n",
       "      <td>True</td>\n",
       "      <td>True</td>\n",
       "      <td>False</td>\n",
       "      <td>False</td>\n",
       "      <td>False</td>\n",
       "      <td>2023-08-11T11:17:28+07:00</td>\n",
       "      <td>False</td>\n",
       "      <td>2023-08-11T11:17:28</td>\n",
       "      <td>NaN</td>\n",
       "      <td>0</td>\n",
       "    </tr>\n",
       "    <tr>\n",
       "      <th>3</th>\n",
       "      <td>1680741</td>\n",
       "      <td>Marketing Staff</td>\n",
       "      <td>NaN</td>\n",
       "      <td>5605927</td>\n",
       "      <td>https://images.vietnamworks.com/pictureofcompa...</td>\n",
       "      <td>marketing-staff-128</td>\n",
       "      <td>NaN</td>\n",
       "      <td>2023-08-11T11:10:02+07:00</td>\n",
       "      <td>2023-09-10T23:59:59+07:00</td>\n",
       "      <td>NaN</td>\n",
       "      <td>...</td>\n",
       "      <td>True</td>\n",
       "      <td>True</td>\n",
       "      <td>False</td>\n",
       "      <td>True</td>\n",
       "      <td>False</td>\n",
       "      <td>2023-08-11T11:10:02+07:00</td>\n",
       "      <td>False</td>\n",
       "      <td>2023-08-11T11:10:02</td>\n",
       "      <td>NaN</td>\n",
       "      <td>2</td>\n",
       "    </tr>\n",
       "    <tr>\n",
       "      <th>4</th>\n",
       "      <td>1680162</td>\n",
       "      <td>Chuyên Viên Chính Quan Hệ Khách Hàng Ưu Tiên -...</td>\n",
       "      <td>NaN</td>\n",
       "      <td>3284371</td>\n",
       "      <td>https://images.vietnamworks.com/pictureofcompa...</td>\n",
       "      <td>chuyen-vien-chinh-quan-he-khach-hang-uu-tien-t...</td>\n",
       "      <td>NaN</td>\n",
       "      <td>2023-08-10T10:43:12+07:00</td>\n",
       "      <td>2023-09-09T23:59:59+07:00</td>\n",
       "      <td>NaN</td>\n",
       "      <td>...</td>\n",
       "      <td>True</td>\n",
       "      <td>True</td>\n",
       "      <td>False</td>\n",
       "      <td>False</td>\n",
       "      <td>False</td>\n",
       "      <td>2023-08-10T10:43:12+07:00</td>\n",
       "      <td>False</td>\n",
       "      <td>2023-08-11T11:05:45</td>\n",
       "      <td>NaN</td>\n",
       "      <td>1</td>\n",
       "    </tr>\n",
       "  </tbody>\n",
       "</table>\n",
       "<p>5 rows × 70 columns</p>\n",
       "</div>"
      ],
      "text/plain": [
       "     jobId                                           jobTitle  jobUrl  \\\n",
       "0  1680760                       Nhân Viên Kinh Doanh MT - GT     NaN   \n",
       "1  1680765      Social Media Specialist (Full Time/part-Time)     NaN   \n",
       "2  1680758                                   Kế Toán Tổng Hợp     NaN   \n",
       "3  1680741                                    Marketing Staff     NaN   \n",
       "4  1680162  Chuyên Viên Chính Quan Hệ Khách Hàng Ưu Tiên -...     NaN   \n",
       "\n",
       "    userId                                        companyLogo  \\\n",
       "0  7323468                                                NaN   \n",
       "1  7320197  https://images.vietnamworks.com/pictureofcompa...   \n",
       "2  7323468                                                NaN   \n",
       "3  5605927  https://images.vietnamworks.com/pictureofcompa...   \n",
       "4  3284371  https://images.vietnamworks.com/pictureofcompa...   \n",
       "\n",
       "                                               alias  createdOn  \\\n",
       "0                       nhan-vien-kinh-doanh-mt-gt-2        NaN   \n",
       "1        social-media-specialist-full-time-part-time        NaN   \n",
       "2                              ke-toan-tong-hop-5140        NaN   \n",
       "3                                marketing-staff-128        NaN   \n",
       "4  chuyen-vien-chinh-quan-he-khach-hang-uu-tien-t...        NaN   \n",
       "\n",
       "                  approvedOn                  expiredOn  lastUpdatedOn  ...  \\\n",
       "0  2023-08-11T11:22:45+07:00  2023-09-10T23:59:59+07:00            NaN  ...   \n",
       "1  2023-08-11T11:20:32+07:00  2023-09-10T23:59:59+07:00            NaN  ...   \n",
       "2  2023-08-11T11:17:28+07:00  2023-09-10T23:59:59+07:00            NaN  ...   \n",
       "3  2023-08-11T11:10:02+07:00  2023-09-10T23:59:59+07:00            NaN  ...   \n",
       "4  2023-08-10T10:43:12+07:00  2023-09-09T23:59:59+07:00            NaN  ...   \n",
       "\n",
       "   isMobileHotJob isMobileTopJob  isBoldAndRedJob  isUrgentJob  isUrgentJobM  \\\n",
       "0            True           True            False        False         False   \n",
       "1            True           True            False        False         False   \n",
       "2            True           True            False        False         False   \n",
       "3            True           True            False         True         False   \n",
       "4            True           True            False        False         False   \n",
       "\n",
       "                    onlineOn  visibilityDisplay        priorityOrder  \\\n",
       "0  2023-08-11T11:22:45+07:00              False  2023-08-11T11:22:45   \n",
       "1  2023-08-11T11:20:32+07:00              False  2023-08-11T11:20:32   \n",
       "2  2023-08-11T11:17:28+07:00              False  2023-08-11T11:17:28   \n",
       "3  2023-08-11T11:10:02+07:00              False  2023-08-11T11:10:02   \n",
       "4  2023-08-10T10:43:12+07:00              False  2023-08-11T11:05:45   \n",
       "\n",
       "   nearestGeoLoc  profilePublishedSiteMask  \n",
       "0            NaN                         0  \n",
       "1            NaN                         0  \n",
       "2            NaN                         0  \n",
       "3            NaN                         2  \n",
       "4            NaN                         1  \n",
       "\n",
       "[5 rows x 70 columns]"
      ]
     },
     "execution_count": 3,
     "metadata": {},
     "output_type": "execute_result"
    }
   ],
   "source": [
    "df = pd.read_csv('data/raw_data.csv')\n",
    "df.head()"
   ]
  },
  {
   "cell_type": "markdown",
   "metadata": {},
   "source": [
    "<hr/>\n",
    "<h4> <b>Preprocess data</b> </h4>"
   ]
  },
  {
   "cell_type": "markdown",
   "metadata": {},
   "source": [
    "<h5><i>1. Drop columns which are not related to this exercise </i></h5>"
   ]
  },
  {
   "cell_type": "code",
   "execution_count": 4,
   "metadata": {},
   "outputs": [],
   "source": [
    "list_drop = ['jobUrl','userId','companyLogo','alias', 'createdOn', 'expiredOn', 'lastUpdatedOn', 'lastSyncedOn', \n",
    "       'companyId', 'companyProfile', 'companySizeId',\n",
    "       'contactName', 'createdBy', 'isOnline', 'isActive', 'isApproved',\n",
    "       'isUnpaidDisable', 'isCompleted', 'isShowLogo', 'isShowLogoInSearch','languageSelectedId', 'redirectTo', 'requiredCoverLetter',\n",
    "       'industriesV3', 'languageId', 'locations', 'canonical',\n",
    "       'isShowContact', 'salaryRangeId', 'requiredResume',\n",
    "       'companySizeVI', 'languageSelectedVI','simpleServices', 'services',\n",
    "       'emailAddress', 'isMobileHotJob', 'isMobileTopJob',\n",
    "       'isBoldAndRedJob', 'isUrgentJob', 'isUrgentJobM', 'onlineOn',\n",
    "       'visibilityDisplay', 'priorityOrder', 'nearestGeoLoc','profilePublishedSiteMask']"
   ]
  },
  {
   "cell_type": "code",
   "execution_count": 5,
   "metadata": {},
   "outputs": [],
   "source": [
    "df = df.drop(list_drop,axis = 1)"
   ]
  },
  {
   "cell_type": "code",
   "execution_count": 6,
   "metadata": {},
   "outputs": [
    {
     "data": {
      "text/plain": [
       "25"
      ]
     },
     "execution_count": 6,
     "metadata": {},
     "output_type": "execute_result"
    }
   ],
   "source": [
    "df.columns.size"
   ]
  },
  {
   "cell_type": "markdown",
   "metadata": {},
   "source": [
    "<h5><i>2. Drop all columns which miss all values or all values are 0 </i></h5>"
   ]
  },
  {
   "cell_type": "code",
   "execution_count": 7,
   "metadata": {},
   "outputs": [
    {
     "data": {
      "text/plain": [
       "25"
      ]
     },
     "execution_count": 7,
     "metadata": {},
     "output_type": "execute_result"
    }
   ],
   "source": [
    "df = df.dropna(axis=1, how = 'all')\n",
    "df.columns.size"
   ]
  },
  {
   "cell_type": "code",
   "execution_count": 8,
   "metadata": {},
   "outputs": [
    {
     "data": {
      "text/plain": [
       "25"
      ]
     },
     "execution_count": 8,
     "metadata": {},
     "output_type": "execute_result"
    }
   ],
   "source": [
    "df = df.loc[:,(df != 0).any(axis = 0)]\n",
    "df.columns.size"
   ]
  },
  {
   "cell_type": "code",
   "execution_count": 9,
   "metadata": {},
   "outputs": [
    {
     "data": {
      "text/html": [
       "<div>\n",
       "<style scoped>\n",
       "    .dataframe tbody tr th:only-of-type {\n",
       "        vertical-align: middle;\n",
       "    }\n",
       "\n",
       "    .dataframe tbody tr th {\n",
       "        vertical-align: top;\n",
       "    }\n",
       "\n",
       "    .dataframe thead th {\n",
       "        text-align: right;\n",
       "    }\n",
       "</style>\n",
       "<table border=\"1\" class=\"dataframe\">\n",
       "  <thead>\n",
       "    <tr style=\"text-align: right;\">\n",
       "      <th></th>\n",
       "      <th>jobId</th>\n",
       "      <th>jobTitle</th>\n",
       "      <th>approvedOn</th>\n",
       "      <th>companyName</th>\n",
       "      <th>isAnonymous</th>\n",
       "      <th>isSalaryVisible</th>\n",
       "      <th>jobDescription</th>\n",
       "      <th>jobRequirement</th>\n",
       "      <th>jobLevelId</th>\n",
       "      <th>salary</th>\n",
       "      <th>...</th>\n",
       "      <th>workingLocations</th>\n",
       "      <th>address</th>\n",
       "      <th>industries</th>\n",
       "      <th>jobLevel</th>\n",
       "      <th>jobLevelVI</th>\n",
       "      <th>companySize</th>\n",
       "      <th>languageSelected</th>\n",
       "      <th>prettySalary</th>\n",
       "      <th>durationDays</th>\n",
       "      <th>numOfApplications</th>\n",
       "    </tr>\n",
       "  </thead>\n",
       "  <tbody>\n",
       "    <tr>\n",
       "      <th>0</th>\n",
       "      <td>1680760</td>\n",
       "      <td>Nhân Viên Kinh Doanh MT - GT</td>\n",
       "      <td>2023-08-11T11:22:45+07:00</td>\n",
       "      <td>Công Ty Cổ Phần S77 Hà Nội</td>\n",
       "      <td>False</td>\n",
       "      <td>True</td>\n",
       "      <td>1. Doanh số bán hàng\\r\\n- Thực hiện bán hàng t...</td>\n",
       "      <td>- Ít nhất 1 năm kinh nghiệm ở vị trí tương đươ...</td>\n",
       "      <td>5</td>\n",
       "      <td>700</td>\n",
       "      <td>...</td>\n",
       "      <td>[{'workingLocationId': 130191, 'addressId': 74...</td>\n",
       "      <td>Hà Nội</td>\n",
       "      <td>[{'industryId': 11, 'industryName': 'Customer ...</td>\n",
       "      <td>Experienced (non-manager)</td>\n",
       "      <td>Nhân viên</td>\n",
       "      <td>10-24</td>\n",
       "      <td>Any</td>\n",
       "      <td>$500 - $700</td>\n",
       "      <td>30</td>\n",
       "      <td>0</td>\n",
       "    </tr>\n",
       "    <tr>\n",
       "      <th>1</th>\n",
       "      <td>1680765</td>\n",
       "      <td>Social Media Specialist (Full Time/part-Time)</td>\n",
       "      <td>2023-08-11T11:20:32+07:00</td>\n",
       "      <td>Công Ty TNHH Jung Wisdom International</td>\n",
       "      <td>False</td>\n",
       "      <td>False</td>\n",
       "      <td>WE’RE HIRING: SOCIAL MEDIA SPECIALIST (FULL TI...</td>\n",
       "      <td>QUALIFICATIONS\\r\\n- Fluent in English (IELTS o...</td>\n",
       "      <td>5</td>\n",
       "      <td>0</td>\n",
       "      <td>...</td>\n",
       "      <td>[{'workingLocationId': 130179, 'addressId': 74...</td>\n",
       "      <td>No.298, Vo Chi Cong street, Xuan La Ward, Tay ...</td>\n",
       "      <td>[{'industryId': 3, 'industryName': 'Advertisin...</td>\n",
       "      <td>Experienced (non-manager)</td>\n",
       "      <td>Nhân viên</td>\n",
       "      <td>25-99</td>\n",
       "      <td>English</td>\n",
       "      <td>Thương lượng</td>\n",
       "      <td>30</td>\n",
       "      <td>0</td>\n",
       "    </tr>\n",
       "    <tr>\n",
       "      <th>2</th>\n",
       "      <td>1680758</td>\n",
       "      <td>Kế Toán Tổng Hợp</td>\n",
       "      <td>2023-08-11T11:17:28+07:00</td>\n",
       "      <td>Công Ty Cổ Phần S77 Hà Nội</td>\n",
       "      <td>False</td>\n",
       "      <td>True</td>\n",
       "      <td>- Ghi nhận kiểm tra các nghiệp vụ phát sinh và...</td>\n",
       "      <td>1. Tuổi: Từ 25\\r\\n2. Bằng cấp: Cao đẳng/Đại Họ...</td>\n",
       "      <td>5</td>\n",
       "      <td>700</td>\n",
       "      <td>...</td>\n",
       "      <td>[{'workingLocationId': 130191, 'addressId': 74...</td>\n",
       "      <td>Hà Nội</td>\n",
       "      <td>[{'industryId': 1, 'industryName': 'Accounting...</td>\n",
       "      <td>Experienced (non-manager)</td>\n",
       "      <td>Nhân viên</td>\n",
       "      <td>10-24</td>\n",
       "      <td>Any</td>\n",
       "      <td>$500 - $700</td>\n",
       "      <td>30</td>\n",
       "      <td>0</td>\n",
       "    </tr>\n",
       "    <tr>\n",
       "      <th>3</th>\n",
       "      <td>1680741</td>\n",
       "      <td>Marketing Staff</td>\n",
       "      <td>2023-08-11T11:10:02+07:00</td>\n",
       "      <td>Công Ty TNHH Bán Lẻ Fujimart Việt Nam</td>\n",
       "      <td>False</td>\n",
       "      <td>False</td>\n",
       "      <td>-\\tIn charge of trade marketing activities, co...</td>\n",
       "      <td>-\\tBachelor degree of Marketing/ Business Admi...</td>\n",
       "      <td>5</td>\n",
       "      <td>0</td>\n",
       "      <td>...</td>\n",
       "      <td>[{'workingLocationId': 88326, 'addressId': 515...</td>\n",
       "      <td>Tầng 6, 51 Phố Lê Đại Hành, Quận Hai Bà Trưng,...</td>\n",
       "      <td>[{'industryId': 3, 'industryName': 'Advertisin...</td>\n",
       "      <td>Experienced (non-manager)</td>\n",
       "      <td>Nhân viên</td>\n",
       "      <td>NaN</td>\n",
       "      <td>Any</td>\n",
       "      <td>Thương lượng</td>\n",
       "      <td>30</td>\n",
       "      <td>0</td>\n",
       "    </tr>\n",
       "    <tr>\n",
       "      <th>4</th>\n",
       "      <td>1680162</td>\n",
       "      <td>Chuyên Viên Chính Quan Hệ Khách Hàng Ưu Tiên -...</td>\n",
       "      <td>2023-08-10T10:43:12+07:00</td>\n",
       "      <td>Ngân Hàng TMCP Quốc Dân (Ncb)</td>\n",
       "      <td>False</td>\n",
       "      <td>False</td>\n",
       "      <td>- Thực hiện hoạt động tìm kiếm, phát triển và ...</td>\n",
       "      <td>- Tốt nghiệp chuyên ngành Tài chính-ngân hàng,...</td>\n",
       "      <td>5</td>\n",
       "      <td>0</td>\n",
       "      <td>...</td>\n",
       "      <td>[{'workingLocationId': 83892, 'addressId': 350...</td>\n",
       "      <td>28C-28D Bà Triệu, Phường Hàng Bài, Hà Nội</td>\n",
       "      <td>[{'industryId': 33, 'industryName': 'Sales', '...</td>\n",
       "      <td>Experienced (non-manager)</td>\n",
       "      <td>Nhân viên</td>\n",
       "      <td>NaN</td>\n",
       "      <td>Vietnamese</td>\n",
       "      <td>Thương lượng</td>\n",
       "      <td>30</td>\n",
       "      <td>0</td>\n",
       "    </tr>\n",
       "    <tr>\n",
       "      <th>...</th>\n",
       "      <td>...</td>\n",
       "      <td>...</td>\n",
       "      <td>...</td>\n",
       "      <td>...</td>\n",
       "      <td>...</td>\n",
       "      <td>...</td>\n",
       "      <td>...</td>\n",
       "      <td>...</td>\n",
       "      <td>...</td>\n",
       "      <td>...</td>\n",
       "      <td>...</td>\n",
       "      <td>...</td>\n",
       "      <td>...</td>\n",
       "      <td>...</td>\n",
       "      <td>...</td>\n",
       "      <td>...</td>\n",
       "      <td>...</td>\n",
       "      <td>...</td>\n",
       "      <td>...</td>\n",
       "      <td>...</td>\n",
       "      <td>...</td>\n",
       "    </tr>\n",
       "    <tr>\n",
       "      <th>8995</th>\n",
       "      <td>1673169</td>\n",
       "      <td>Experienced Associate - Economics and Infrastr...</td>\n",
       "      <td>2023-07-22T17:06:30+07:00</td>\n",
       "      <td>Ernst &amp; Young Vietnam Limited</td>\n",
       "      <td>False</td>\n",
       "      <td>True</td>\n",
       "      <td>The opportunity with Business Consulting – Gov...</td>\n",
       "      <td>Skills and attributes for success \\r\\n•\\tBeing...</td>\n",
       "      <td>5</td>\n",
       "      <td>1500</td>\n",
       "      <td>...</td>\n",
       "      <td>[{'workingLocationId': 89131, 'addressId': 615...</td>\n",
       "      <td>Bitexco Financial Tower, 28th Floor, 2 Hai Tri...</td>\n",
       "      <td>[{'industryId': 8, 'industryName': 'Consulting...</td>\n",
       "      <td>Experienced (non-manager)</td>\n",
       "      <td>Nhân viên</td>\n",
       "      <td>500-999</td>\n",
       "      <td>Any</td>\n",
       "      <td>$500 - $1500</td>\n",
       "      <td>30</td>\n",
       "      <td>7</td>\n",
       "    </tr>\n",
       "    <tr>\n",
       "      <th>8996</th>\n",
       "      <td>1673172</td>\n",
       "      <td>Senior Associate - Economics and Infrastructur...</td>\n",
       "      <td>2023-07-22T17:39:57+07:00</td>\n",
       "      <td>Ernst &amp; Young Vietnam Limited</td>\n",
       "      <td>False</td>\n",
       "      <td>False</td>\n",
       "      <td>The opportunity with Business Consulting – Eco...</td>\n",
       "      <td>Skills and attributes for success \\r\\n•\\tBeing...</td>\n",
       "      <td>5</td>\n",
       "      <td>0</td>\n",
       "      <td>...</td>\n",
       "      <td>[{'workingLocationId': 89131, 'addressId': 615...</td>\n",
       "      <td>Bitexco Financial Tower, 28th Floor, 2 Hai Tri...</td>\n",
       "      <td>[{'industryId': 8, 'industryName': 'Consulting...</td>\n",
       "      <td>Experienced (non-manager)</td>\n",
       "      <td>Nhân viên</td>\n",
       "      <td>500-999</td>\n",
       "      <td>Any</td>\n",
       "      <td>Thương lượng</td>\n",
       "      <td>30</td>\n",
       "      <td>7</td>\n",
       "    </tr>\n",
       "    <tr>\n",
       "      <th>8997</th>\n",
       "      <td>1670291</td>\n",
       "      <td>Nhân Viên OP Làm Việc Tại Cửa Khẩu Hữu Nghị</td>\n",
       "      <td>2023-07-22T10:58:26+07:00</td>\n",
       "      <td>Công Ty TNHH Vận Chuyển Hải Thiên (VIỆT NAM)</td>\n",
       "      <td>False</td>\n",
       "      <td>False</td>\n",
       "      <td>MÔ TẢ CÔNG VIỆC:\\r\\n- Thông quan, tiếp nhận th...</td>\n",
       "      <td>***YÊU CẦU ỨNG VIÊN\\r\\n- Trình độ học vấn tối ...</td>\n",
       "      <td>5</td>\n",
       "      <td>0</td>\n",
       "      <td>...</td>\n",
       "      <td>[{'workingLocationId': 128009, 'addressId': 73...</td>\n",
       "      <td>181 Đào Duy Anh, phường 9, quận Phú Nhuận</td>\n",
       "      <td>[{'industryId': 19, 'industryName': 'Export-Im...</td>\n",
       "      <td>Experienced (non-manager)</td>\n",
       "      <td>Nhân viên</td>\n",
       "      <td>25-99</td>\n",
       "      <td>Any</td>\n",
       "      <td>Thương lượng</td>\n",
       "      <td>30</td>\n",
       "      <td>4</td>\n",
       "    </tr>\n",
       "    <tr>\n",
       "      <th>8998</th>\n",
       "      <td>1673166</td>\n",
       "      <td>Chinese Speaking _ Business Development _ Hano...</td>\n",
       "      <td>2023-07-22T16:39:56+07:00</td>\n",
       "      <td>Ernst &amp; Young Vietnam Limited</td>\n",
       "      <td>False</td>\n",
       "      <td>False</td>\n",
       "      <td>Your key responsibilities\\r\\n\\tWork with Part...</td>\n",
       "      <td>What working at EY offers\\r\\n•\\tSupport and co...</td>\n",
       "      <td>5</td>\n",
       "      <td>0</td>\n",
       "      <td>...</td>\n",
       "      <td>[{'workingLocationId': 89131, 'addressId': 615...</td>\n",
       "      <td>Bitexco Financial Tower, 28th Floor, 2 Hai Tri...</td>\n",
       "      <td>[{'industryId': 8, 'industryName': 'Consulting...</td>\n",
       "      <td>Experienced (non-manager)</td>\n",
       "      <td>Nhân viên</td>\n",
       "      <td>500-999</td>\n",
       "      <td>Any</td>\n",
       "      <td>Thương lượng</td>\n",
       "      <td>30</td>\n",
       "      <td>6</td>\n",
       "    </tr>\n",
       "    <tr>\n",
       "      <th>8999</th>\n",
       "      <td>1673167</td>\n",
       "      <td>Senior in Risk Consulting Service– Hanoi Offic...</td>\n",
       "      <td>2023-07-22T16:43:58+07:00</td>\n",
       "      <td>Ernst &amp; Young Vietnam Limited</td>\n",
       "      <td>False</td>\n",
       "      <td>False</td>\n",
       "      <td>At EY, you’ll have the chance to build a caree...</td>\n",
       "      <td>Who we are looking for?\\r\\n\\r\\nA Bachelor’s or...</td>\n",
       "      <td>5</td>\n",
       "      <td>0</td>\n",
       "      <td>...</td>\n",
       "      <td>[{'workingLocationId': 1641, 'addressId': 41, ...</td>\n",
       "      <td>Bitexco Financial Tower, 28th Floor, 2 Hai Tri...</td>\n",
       "      <td>[{'industryId': 8, 'industryName': 'Consulting...</td>\n",
       "      <td>Experienced (non-manager)</td>\n",
       "      <td>Nhân viên</td>\n",
       "      <td>500-999</td>\n",
       "      <td>English</td>\n",
       "      <td>Thương lượng</td>\n",
       "      <td>30</td>\n",
       "      <td>6</td>\n",
       "    </tr>\n",
       "  </tbody>\n",
       "</table>\n",
       "<p>9000 rows × 25 columns</p>\n",
       "</div>"
      ],
      "text/plain": [
       "        jobId                                           jobTitle  \\\n",
       "0     1680760                       Nhân Viên Kinh Doanh MT - GT   \n",
       "1     1680765      Social Media Specialist (Full Time/part-Time)   \n",
       "2     1680758                                   Kế Toán Tổng Hợp   \n",
       "3     1680741                                    Marketing Staff   \n",
       "4     1680162  Chuyên Viên Chính Quan Hệ Khách Hàng Ưu Tiên -...   \n",
       "...       ...                                                ...   \n",
       "8995  1673169  Experienced Associate - Economics and Infrastr...   \n",
       "8996  1673172  Senior Associate - Economics and Infrastructur...   \n",
       "8997  1670291        Nhân Viên OP Làm Việc Tại Cửa Khẩu Hữu Nghị   \n",
       "8998  1673166  Chinese Speaking _ Business Development _ Hano...   \n",
       "8999  1673167  Senior in Risk Consulting Service– Hanoi Offic...   \n",
       "\n",
       "                     approvedOn                                   companyName  \\\n",
       "0     2023-08-11T11:22:45+07:00                    Công Ty Cổ Phần S77 Hà Nội   \n",
       "1     2023-08-11T11:20:32+07:00        Công Ty TNHH Jung Wisdom International   \n",
       "2     2023-08-11T11:17:28+07:00                    Công Ty Cổ Phần S77 Hà Nội   \n",
       "3     2023-08-11T11:10:02+07:00         Công Ty TNHH Bán Lẻ Fujimart Việt Nam   \n",
       "4     2023-08-10T10:43:12+07:00                 Ngân Hàng TMCP Quốc Dân (Ncb)   \n",
       "...                         ...                                           ...   \n",
       "8995  2023-07-22T17:06:30+07:00                 Ernst & Young Vietnam Limited   \n",
       "8996  2023-07-22T17:39:57+07:00                 Ernst & Young Vietnam Limited   \n",
       "8997  2023-07-22T10:58:26+07:00  Công Ty TNHH Vận Chuyển Hải Thiên (VIỆT NAM)   \n",
       "8998  2023-07-22T16:39:56+07:00                 Ernst & Young Vietnam Limited   \n",
       "8999  2023-07-22T16:43:58+07:00                 Ernst & Young Vietnam Limited   \n",
       "\n",
       "      isAnonymous  isSalaryVisible  \\\n",
       "0           False             True   \n",
       "1           False            False   \n",
       "2           False             True   \n",
       "3           False            False   \n",
       "4           False            False   \n",
       "...           ...              ...   \n",
       "8995        False             True   \n",
       "8996        False            False   \n",
       "8997        False            False   \n",
       "8998        False            False   \n",
       "8999        False            False   \n",
       "\n",
       "                                         jobDescription  \\\n",
       "0     1. Doanh số bán hàng\\r\\n- Thực hiện bán hàng t...   \n",
       "1     WE’RE HIRING: SOCIAL MEDIA SPECIALIST (FULL TI...   \n",
       "2     - Ghi nhận kiểm tra các nghiệp vụ phát sinh và...   \n",
       "3     -\\tIn charge of trade marketing activities, co...   \n",
       "4     - Thực hiện hoạt động tìm kiếm, phát triển và ...   \n",
       "...                                                 ...   \n",
       "8995  The opportunity with Business Consulting – Gov...   \n",
       "8996  The opportunity with Business Consulting – Eco...   \n",
       "8997  MÔ TẢ CÔNG VIỆC:\\r\\n- Thông quan, tiếp nhận th...   \n",
       "8998  Your key responsibilities\\r\\n\\tWork with Part...   \n",
       "8999  At EY, you’ll have the chance to build a caree...   \n",
       "\n",
       "                                         jobRequirement  jobLevelId  salary  \\\n",
       "0     - Ít nhất 1 năm kinh nghiệm ở vị trí tương đươ...           5     700   \n",
       "1     QUALIFICATIONS\\r\\n- Fluent in English (IELTS o...           5       0   \n",
       "2     1. Tuổi: Từ 25\\r\\n2. Bằng cấp: Cao đẳng/Đại Họ...           5     700   \n",
       "3     -\\tBachelor degree of Marketing/ Business Admi...           5       0   \n",
       "4     - Tốt nghiệp chuyên ngành Tài chính-ngân hàng,...           5       0   \n",
       "...                                                 ...         ...     ...   \n",
       "8995  Skills and attributes for success \\r\\n•\\tBeing...           5    1500   \n",
       "8996  Skills and attributes for success \\r\\n•\\tBeing...           5       0   \n",
       "8997  ***YÊU CẦU ỨNG VIÊN\\r\\n- Trình độ học vấn tối ...           5       0   \n",
       "8998  What working at EY offers\\r\\n•\\tSupport and co...           5       0   \n",
       "8999  Who we are looking for?\\r\\n\\r\\nA Bachelor’s or...           5       0   \n",
       "\n",
       "      ...                                   workingLocations  \\\n",
       "0     ...  [{'workingLocationId': 130191, 'addressId': 74...   \n",
       "1     ...  [{'workingLocationId': 130179, 'addressId': 74...   \n",
       "2     ...  [{'workingLocationId': 130191, 'addressId': 74...   \n",
       "3     ...  [{'workingLocationId': 88326, 'addressId': 515...   \n",
       "4     ...  [{'workingLocationId': 83892, 'addressId': 350...   \n",
       "...   ...                                                ...   \n",
       "8995  ...  [{'workingLocationId': 89131, 'addressId': 615...   \n",
       "8996  ...  [{'workingLocationId': 89131, 'addressId': 615...   \n",
       "8997  ...  [{'workingLocationId': 128009, 'addressId': 73...   \n",
       "8998  ...  [{'workingLocationId': 89131, 'addressId': 615...   \n",
       "8999  ...  [{'workingLocationId': 1641, 'addressId': 41, ...   \n",
       "\n",
       "                                                address  \\\n",
       "0                                                Hà Nội   \n",
       "1     No.298, Vo Chi Cong street, Xuan La Ward, Tay ...   \n",
       "2                                                Hà Nội   \n",
       "3     Tầng 6, 51 Phố Lê Đại Hành, Quận Hai Bà Trưng,...   \n",
       "4             28C-28D Bà Triệu, Phường Hàng Bài, Hà Nội   \n",
       "...                                                 ...   \n",
       "8995  Bitexco Financial Tower, 28th Floor, 2 Hai Tri...   \n",
       "8996  Bitexco Financial Tower, 28th Floor, 2 Hai Tri...   \n",
       "8997          181 Đào Duy Anh, phường 9, quận Phú Nhuận   \n",
       "8998  Bitexco Financial Tower, 28th Floor, 2 Hai Tri...   \n",
       "8999  Bitexco Financial Tower, 28th Floor, 2 Hai Tri...   \n",
       "\n",
       "                                             industries  \\\n",
       "0     [{'industryId': 11, 'industryName': 'Customer ...   \n",
       "1     [{'industryId': 3, 'industryName': 'Advertisin...   \n",
       "2     [{'industryId': 1, 'industryName': 'Accounting...   \n",
       "3     [{'industryId': 3, 'industryName': 'Advertisin...   \n",
       "4     [{'industryId': 33, 'industryName': 'Sales', '...   \n",
       "...                                                 ...   \n",
       "8995  [{'industryId': 8, 'industryName': 'Consulting...   \n",
       "8996  [{'industryId': 8, 'industryName': 'Consulting...   \n",
       "8997  [{'industryId': 19, 'industryName': 'Export-Im...   \n",
       "8998  [{'industryId': 8, 'industryName': 'Consulting...   \n",
       "8999  [{'industryId': 8, 'industryName': 'Consulting...   \n",
       "\n",
       "                       jobLevel jobLevelVI companySize languageSelected  \\\n",
       "0     Experienced (non-manager)  Nhân viên       10-24              Any   \n",
       "1     Experienced (non-manager)  Nhân viên       25-99          English   \n",
       "2     Experienced (non-manager)  Nhân viên       10-24              Any   \n",
       "3     Experienced (non-manager)  Nhân viên         NaN              Any   \n",
       "4     Experienced (non-manager)  Nhân viên         NaN       Vietnamese   \n",
       "...                         ...        ...         ...              ...   \n",
       "8995  Experienced (non-manager)  Nhân viên     500-999              Any   \n",
       "8996  Experienced (non-manager)  Nhân viên     500-999              Any   \n",
       "8997  Experienced (non-manager)  Nhân viên       25-99              Any   \n",
       "8998  Experienced (non-manager)  Nhân viên     500-999              Any   \n",
       "8999  Experienced (non-manager)  Nhân viên     500-999          English   \n",
       "\n",
       "      prettySalary durationDays numOfApplications  \n",
       "0      $500 - $700           30                 0  \n",
       "1     Thương lượng           30                 0  \n",
       "2      $500 - $700           30                 0  \n",
       "3     Thương lượng           30                 0  \n",
       "4     Thương lượng           30                 0  \n",
       "...            ...          ...               ...  \n",
       "8995  $500 - $1500           30                 7  \n",
       "8996  Thương lượng           30                 7  \n",
       "8997  Thương lượng           30                 4  \n",
       "8998  Thương lượng           30                 6  \n",
       "8999  Thương lượng           30                 6  \n",
       "\n",
       "[9000 rows x 25 columns]"
      ]
     },
     "execution_count": 9,
     "metadata": {},
     "output_type": "execute_result"
    }
   ],
   "source": [
    "df"
   ]
  },
  {
   "cell_type": "markdown",
   "metadata": {},
   "source": [
    "<h5><i>3. Drop all duplicated in raw data</i></h5>"
   ]
  },
  {
   "cell_type": "code",
   "execution_count": 10,
   "metadata": {},
   "outputs": [
    {
     "data": {
      "text/plain": [
       "(8978, 25)"
      ]
     },
     "execution_count": 10,
     "metadata": {},
     "output_type": "execute_result"
    }
   ],
   "source": [
    "df = df.drop_duplicates(keep = 'first')\n",
    "df.shape"
   ]
  },
  {
   "cell_type": "markdown",
   "metadata": {},
   "source": [
    "<h5><i>4. Preprocessing column <b>\"companySize\"</b></i></h5>"
   ]
  },
  {
   "cell_type": "code",
   "execution_count": 11,
   "metadata": {},
   "outputs": [
    {
     "data": {
      "text/plain": [
       "100-499          2256\n",
       "25-99            1793\n",
       "1,000-4,999      1207\n",
       "500-999           763\n",
       "10-24             667\n",
       "5,000-9,999       329\n",
       "10,000-19,999     215\n",
       "Less Than 10      108\n",
       "20,000-49,999      43\n",
       "Over 50,000        42\n",
       "Name: companySize, dtype: int64"
      ]
     },
     "execution_count": 11,
     "metadata": {},
     "output_type": "execute_result"
    }
   ],
   "source": [
    "df['companySize'].value_counts()"
   ]
  },
  {
   "cell_type": "code",
   "execution_count": 12,
   "metadata": {},
   "outputs": [],
   "source": [
    "def clean_companySize(s): \n",
    "    if s == \"100-499\": return (100, 499)\n",
    "    elif s == \"25-99\": return (25, 99)\n",
    "    elif s == \"1,000-4,999\": return (1000, 4999)\n",
    "    elif s == \"500-999\": return (500, 999)\n",
    "    elif s == \"10-24\": return (10, 24)\n",
    "    elif s == \"5,000-9,999\": return (5000, 9999)\n",
    "    elif s == \"10,000-19,999\": return (10000, 19999)\n",
    "    elif s == \"Less Than 10\": return (0, 10)\n",
    "    elif s == \"20,000-49,999\": return (20000, 49999)\n",
    "    elif s == \"Over 50,000\": return (50000, 99999)\n",
    "    else: return None"
   ]
  },
  {
   "cell_type": "code",
   "execution_count": 13,
   "metadata": {},
   "outputs": [
    {
     "data": {
      "text/plain": [
       "7423"
      ]
     },
     "execution_count": 13,
     "metadata": {},
     "output_type": "execute_result"
    }
   ],
   "source": [
    "temp_df = df.copy()\n",
    "temp_df['companySize'] = df['companySize'].apply(lambda s: clean_companySize(s))\n",
    "temp_df['companySize'].value_counts().sum()"
   ]
  },
  {
   "cell_type": "code",
   "execution_count": 14,
   "metadata": {},
   "outputs": [
    {
     "data": {
      "text/html": [
       "<div>\n",
       "<style scoped>\n",
       "    .dataframe tbody tr th:only-of-type {\n",
       "        vertical-align: middle;\n",
       "    }\n",
       "\n",
       "    .dataframe tbody tr th {\n",
       "        vertical-align: top;\n",
       "    }\n",
       "\n",
       "    .dataframe thead th {\n",
       "        text-align: right;\n",
       "    }\n",
       "</style>\n",
       "<table border=\"1\" class=\"dataframe\">\n",
       "  <thead>\n",
       "    <tr style=\"text-align: right;\">\n",
       "      <th></th>\n",
       "      <th>jobId</th>\n",
       "      <th>jobTitle</th>\n",
       "      <th>approvedOn</th>\n",
       "      <th>companyName</th>\n",
       "      <th>isAnonymous</th>\n",
       "      <th>isSalaryVisible</th>\n",
       "      <th>jobDescription</th>\n",
       "      <th>jobRequirement</th>\n",
       "      <th>jobLevelId</th>\n",
       "      <th>salary</th>\n",
       "      <th>...</th>\n",
       "      <th>workingLocations</th>\n",
       "      <th>address</th>\n",
       "      <th>industries</th>\n",
       "      <th>jobLevel</th>\n",
       "      <th>jobLevelVI</th>\n",
       "      <th>companySize</th>\n",
       "      <th>languageSelected</th>\n",
       "      <th>prettySalary</th>\n",
       "      <th>durationDays</th>\n",
       "      <th>numOfApplications</th>\n",
       "    </tr>\n",
       "  </thead>\n",
       "  <tbody>\n",
       "    <tr>\n",
       "      <th>0</th>\n",
       "      <td>1680760</td>\n",
       "      <td>Nhân Viên Kinh Doanh MT - GT</td>\n",
       "      <td>2023-08-11T11:22:45+07:00</td>\n",
       "      <td>Công Ty Cổ Phần S77 Hà Nội</td>\n",
       "      <td>False</td>\n",
       "      <td>True</td>\n",
       "      <td>1. Doanh số bán hàng\\r\\n- Thực hiện bán hàng t...</td>\n",
       "      <td>- Ít nhất 1 năm kinh nghiệm ở vị trí tương đươ...</td>\n",
       "      <td>5</td>\n",
       "      <td>700</td>\n",
       "      <td>...</td>\n",
       "      <td>[{'workingLocationId': 130191, 'addressId': 74...</td>\n",
       "      <td>Hà Nội</td>\n",
       "      <td>[{'industryId': 11, 'industryName': 'Customer ...</td>\n",
       "      <td>Experienced (non-manager)</td>\n",
       "      <td>Nhân viên</td>\n",
       "      <td>(10, 24)</td>\n",
       "      <td>Any</td>\n",
       "      <td>$500 - $700</td>\n",
       "      <td>30</td>\n",
       "      <td>0</td>\n",
       "    </tr>\n",
       "  </tbody>\n",
       "</table>\n",
       "<p>1 rows × 25 columns</p>\n",
       "</div>"
      ],
      "text/plain": [
       "     jobId                      jobTitle                 approvedOn  \\\n",
       "0  1680760  Nhân Viên Kinh Doanh MT - GT  2023-08-11T11:22:45+07:00   \n",
       "\n",
       "                  companyName  isAnonymous  isSalaryVisible  \\\n",
       "0  Công Ty Cổ Phần S77 Hà Nội        False             True   \n",
       "\n",
       "                                      jobDescription  \\\n",
       "0  1. Doanh số bán hàng\\r\\n- Thực hiện bán hàng t...   \n",
       "\n",
       "                                      jobRequirement  jobLevelId  salary  ...  \\\n",
       "0  - Ít nhất 1 năm kinh nghiệm ở vị trí tương đươ...           5     700  ...   \n",
       "\n",
       "                                    workingLocations  address  \\\n",
       "0  [{'workingLocationId': 130191, 'addressId': 74...   Hà Nội   \n",
       "\n",
       "                                          industries  \\\n",
       "0  [{'industryId': 11, 'industryName': 'Customer ...   \n",
       "\n",
       "                    jobLevel jobLevelVI companySize languageSelected  \\\n",
       "0  Experienced (non-manager)  Nhân viên    (10, 24)              Any   \n",
       "\n",
       "  prettySalary durationDays numOfApplications  \n",
       "0  $500 - $700           30                 0  \n",
       "\n",
       "[1 rows x 25 columns]"
      ]
     },
     "execution_count": 14,
     "metadata": {},
     "output_type": "execute_result"
    }
   ],
   "source": [
    "temp_df.head(1)"
   ]
  },
  {
   "cell_type": "markdown",
   "metadata": {},
   "source": [
    "<h5><i>5. Preprocessing column \"workingLocations\"</i></h5>"
   ]
  },
  {
   "cell_type": "code",
   "execution_count": 15,
   "metadata": {},
   "outputs": [],
   "source": [
    "columns_to_check = [\"workingLocations\",\"skills\",'benefits',\"industries\"]\n",
    "temp_df.dropna(subset = columns_to_check,inplace = True)"
   ]
  },
  {
   "cell_type": "code",
   "execution_count": 16,
   "metadata": {},
   "outputs": [
    {
     "data": {
      "text/plain": [
       "[{'workingLocationId': 119997, 'addressId': 774, 'cityId': 24, 'districtId': 0, 'address': 'Hà Nội, Vietnam', 'geoLoc': {'lat': 21.027764, 'lon': 105.83416}, 'cityName': 'Ha Noi', 'cityNameVI': 'Hà Nội'}]                                                                                                                                                                                                                                                                                                                                                                                                                                                                 42\n",
       "[{'workingLocationId': 17, 'addressId': 14572, 'cityId': 24, 'districtId': 10, 'address': 'Hà Nội, Việt Nam', 'geoLoc': {'lat': 21.027764, 'lon': 105.83416}, 'cityName': 'Ha Noi', 'cityNameVI': 'Hà Nội'}]                                                                                                                                                                                                                                                                                                                                                                                                                                                                 24\n",
       "[{'workingLocationId': 2027, 'addressId': 63746, 'cityId': 29, 'districtId': 36, 'address': '702 Nguyễn Văn Linh, Tân Phong, District 7, Hồ Chí Minh, Việt Nam', 'geoLoc': {'lat': 10.729419, 'lon': 106.700243}, 'cityName': 'Ho Chi Minh', 'cityNameVI': 'Hồ Chí Minh'}]                                                                                                                                                                                                                                                                                                                                                                                                   22\n",
       "[{'workingLocationId': 105865, 'addressId': 60730, 'cityId': 63, 'districtId': 696, 'address': 'Khu công nghiệp bá thiện 1, Bá Hiến, Bình Xuyên, Vĩnh Phúc, Việt Nam', 'geoLoc': {'lat': 21.318082, 'lon': 105.68253}, 'cityName': 'Vinh Phuc', 'cityNameVI': 'Vĩnh Phúc'}]                                                                                                                                                                                                                                                                                                                                                                                                  19\n",
       "[{'workingLocationId': 100763, 'addressId': 58077, 'cityId': 29, 'districtId': 43, 'address': 'Etown Building, 364 Cong Hoa, Ward 13, Tan Binh District, HCMC', 'geoLoc': {'lat': 10.800843, 'lon': 106.640828}, 'cityName': 'Ho Chi Minh', 'cityNameVI': 'Hồ Chí Minh'}]                                                                                                                                                                                                                                                                                                                                                                                                    19\n",
       "                                                                                                                                                                                                                                                                                                                                                                                                                                                                                                                                                                                                                                                                             ..\n",
       "[{'workingLocationId': 123214, 'addressId': 40796, 'cityId': 5, 'districtId': 115, 'address': 'Việt Yên, Bắc Giang, Việt Nam', 'geoLoc': {'lat': 21.285863, 'lon': 106.087533}, 'cityName': 'Bac Giang', 'cityNameVI': 'Bắc Giang'}]                                                                                                                                                                                                                                                                                                                                                                                                                                          1\n",
       "[{'workingLocationId': 85804, 'addressId': 50243, 'cityId': 27, 'districtId': 318, 'address': 'Lô D3 và Lô F, KCN PHúc Điền, xã Cẩm Phúc, huyện Cẩm Giàng, tỉnh Hải Dương, Việt Nam', 'geoLoc': {'lat': 20.933289, 'lon': 106.191994}, 'cityName': 'Hai Duong', 'cityNameVI': 'Hải Dương'}]                                                                                                                                                                                                                                                                                                                                                                                   1\n",
       "[{'workingLocationId': 123093, 'addressId': 522, 'cityId': 11, 'districtId': 0, 'address': 'Binh Duong, Vietnam', 'geoLoc': {'lat': 11.325402, 'lon': 106.477017}, 'cityName': 'Binh Duong', 'cityNameVI': 'Bình Dương'}, {'workingLocationId': 123109, 'addressId': 878, 'cityId': 19, 'districtId': 0, 'address': 'Dong Nai, Vietnam', 'geoLoc': {'lat': 11.068631, 'lon': 107.167598}, 'cityName': 'Dong Nai', 'cityNameVI': 'Đồng Nai'}, {'workingLocationId': 123111, 'addressId': 5126, 'cityId': 29, 'districtId': 0, 'address': 'Ho Chi Minh, Vietnam', 'geoLoc': {'lat': 10.823099, 'lon': 106.629664}, 'cityName': 'Ho Chi Minh', 'cityNameVI': 'Hồ Chí Minh'}]     1\n",
       "[{'workingLocationId': 128453, 'addressId': 69642, 'cityId': 29, 'districtId': 36, 'address': 'Him Lam Residences,No.30, Nguyen Thi Thap St.,Tan Hung Ward, Dist 7, HCMC', 'geoLoc': {'lat': 10.740871, 'lon': 106.699086}, 'cityName': 'Ho Chi Minh', 'cityNameVI': 'Hồ Chí Minh'}]                                                                                                                                                                                                                                                                                                                                                                                          1\n",
       "[{'workingLocationId': 1641, 'addressId': 41, 'cityId': 24, 'districtId': 0, 'address': 'Ha Noi', 'geoLoc': {'lat': 0, 'lon': 0}, 'cityName': 'Ha Noi', 'cityNameVI': 'Hà Nội'}]                                                                                                                                                                                                                                                                                                                                                                                                                                                                                              1\n",
       "Name: workingLocations, Length: 5892, dtype: int64"
      ]
     },
     "execution_count": 16,
     "metadata": {},
     "output_type": "execute_result"
    }
   ],
   "source": [
    "temp_df[\"workingLocations\"].value_counts()"
   ]
  },
  {
   "cell_type": "code",
   "execution_count": 17,
   "metadata": {},
   "outputs": [],
   "source": [
    "temp_df['workingLocations'] = temp_df['workingLocations'].apply(ast.literal_eval)"
   ]
  },
  {
   "cell_type": "code",
   "execution_count": 18,
   "metadata": {},
   "outputs": [],
   "source": [
    "def clean_workingLocations(x):\n",
    "    cityName = {} \n",
    "    for i in x: \n",
    "        cityName[i.get(\"cityId\")] = i.get(\"cityNameVI\")\n",
    "    return cityName"
   ]
  },
  {
   "cell_type": "code",
   "execution_count": 19,
   "metadata": {},
   "outputs": [
    {
     "data": {
      "text/plain": [
       "0         {24: 'Hà Nội'}\n",
       "1         {24: 'Hà Nội'}\n",
       "2         {24: 'Hà Nội'}\n",
       "3         {24: 'Hà Nội'}\n",
       "4         {24: 'Hà Nội'}\n",
       "              ...       \n",
       "8995      {24: 'Hà Nội'}\n",
       "8996      {24: 'Hà Nội'}\n",
       "8997    {37: 'Lạng Sơn'}\n",
       "8998      {24: 'Hà Nội'}\n",
       "8999      {24: 'Hà Nội'}\n",
       "Name: workingLocations, Length: 8972, dtype: object"
      ]
     },
     "execution_count": 19,
     "metadata": {},
     "output_type": "execute_result"
    }
   ],
   "source": [
    "temp_df['workingLocations'] = temp_df['workingLocations'].apply(lambda x: clean_workingLocations(x))\n",
    "temp_df['workingLocations']"
   ]
  },
  {
   "cell_type": "markdown",
   "metadata": {},
   "source": [
    "<h5><i>6. Preprocessing column \"skills\", \"benefits\", \"industries\" </i></h5>"
   ]
  },
  {
   "cell_type": "code",
   "execution_count": 20,
   "metadata": {},
   "outputs": [],
   "source": [
    "temp_df['skills'] = temp_df['skills'].apply(ast.literal_eval)\n",
    "temp_df['benefits'] = temp_df['benefits'].apply(ast.literal_eval)\n",
    "temp_df['industries'] = temp_df['industries'].apply(ast.literal_eval)"
   ]
  },
  {
   "cell_type": "code",
   "execution_count": 21,
   "metadata": {},
   "outputs": [],
   "source": [
    "def clean_skills(x):\n",
    "    skills= {} \n",
    "    for i in x: \n",
    "        skills[i.get(\"skillId\")] = i.get(\"skillName\")\n",
    "    return skills\n",
    "\n",
    "def clean_benefits(x):\n",
    "    benefits= {} \n",
    "    for i in x: \n",
    "        benefits[i.get(\"benefitId\")] = i.get(\"benefitName\")\n",
    "    return benefits\n",
    "\n",
    "def clean_industries(x): \n",
    "    industries= {} \n",
    "    for i in x: \n",
    "        industries[i.get(\"industryId\")] = i.get(\"industryName\")\n",
    "    return industries"
   ]
  },
  {
   "cell_type": "code",
   "execution_count": 22,
   "metadata": {},
   "outputs": [
    {
     "data": {
      "text/html": [
       "<div>\n",
       "<style scoped>\n",
       "    .dataframe tbody tr th:only-of-type {\n",
       "        vertical-align: middle;\n",
       "    }\n",
       "\n",
       "    .dataframe tbody tr th {\n",
       "        vertical-align: top;\n",
       "    }\n",
       "\n",
       "    .dataframe thead th {\n",
       "        text-align: right;\n",
       "    }\n",
       "</style>\n",
       "<table border=\"1\" class=\"dataframe\">\n",
       "  <thead>\n",
       "    <tr style=\"text-align: right;\">\n",
       "      <th></th>\n",
       "      <th>skills</th>\n",
       "      <th>benefits</th>\n",
       "      <th>industries</th>\n",
       "    </tr>\n",
       "  </thead>\n",
       "  <tbody>\n",
       "    <tr>\n",
       "      <th>0</th>\n",
       "      <td>{1919: 'Kênh MT', 1921: 'Hàng Tiêu Dùng', 666:...</td>\n",
       "      <td>{1: 'Bonus', 2: 'Healthcare Plan', 10: 'Team A...</td>\n",
       "      <td>{11: 'Customer Service', 32: 'Retail/Wholesale...</td>\n",
       "    </tr>\n",
       "    <tr>\n",
       "      <th>1</th>\n",
       "      <td>{27810: 'Marketing Materials Strategy', 333851...</td>\n",
       "      <td>{1: 'Bonus', 2: 'Healthcare Plan', 4: 'Training'}</td>\n",
       "      <td>{3: 'Advertising/Promotion/PR', 27: 'Marketing...</td>\n",
       "    </tr>\n",
       "    <tr>\n",
       "      <th>2</th>\n",
       "      <td>{93: 'Kế Toán Tổng Hợp', 941661: 'Hạch Toán Ch...</td>\n",
       "      <td>{1: 'Bonus', 2: 'Healthcare Plan', 10: 'Team A...</td>\n",
       "      <td>{1: 'Accounting', 58: 'Auditing', 59: 'Finance...</td>\n",
       "    </tr>\n",
       "    <tr>\n",
       "      <th>3</th>\n",
       "      <td>{100: 'English', 651: 'Trade Marketing', 15900...</td>\n",
       "      <td>{1: 'Bonus', 2: 'Healthcare Plan', 9: 'Travel ...</td>\n",
       "      <td>{3: 'Advertising/Promotion/PR', 27: 'Marketing...</td>\n",
       "    </tr>\n",
       "    <tr>\n",
       "      <th>4</th>\n",
       "      <td>{17750: 'Tìm Kiếm Khách Hàng', 354: 'Chăm Sóc ...</td>\n",
       "      <td>{1: 'Bonus', 4: 'Training', 5: 'Awards'}</td>\n",
       "      <td>{33: 'Sales', 42: 'Banking', 59: 'Finance/Inve...</td>\n",
       "    </tr>\n",
       "    <tr>\n",
       "      <th>...</th>\n",
       "      <td>...</td>\n",
       "      <td>...</td>\n",
       "      <td>...</td>\n",
       "    </tr>\n",
       "    <tr>\n",
       "      <th>8995</th>\n",
       "      <td>{618943: 'Government Organizations', 236965: '...</td>\n",
       "      <td>{1: 'Bonus', 5: 'Awards', 15: 'Others'}</td>\n",
       "      <td>{8: 'Consulting', 58: 'Auditing', 69: 'Plannin...</td>\n",
       "    </tr>\n",
       "    <tr>\n",
       "      <th>8996</th>\n",
       "      <td>{618943: 'Government Organizations', 941031: '...</td>\n",
       "      <td>{1: 'Bonus', 5: 'Awards', 15: 'Others'}</td>\n",
       "      <td>{8: 'Consulting', 58: 'Auditing', 69: 'Plannin...</td>\n",
       "    </tr>\n",
       "    <tr>\n",
       "      <th>8997</th>\n",
       "      <td>{67: 'Xuất Nhập Khẩu', 26367: 'Booking', 23667...</td>\n",
       "      <td>{2: 'Healthcare Plan', 3: 'Paid Leave', 10: 'T...</td>\n",
       "      <td>{19: 'Export-Import', 36: 'Freight/Logistics'}</td>\n",
       "    </tr>\n",
       "    <tr>\n",
       "      <th>8998</th>\n",
       "      <td>{9428: 'Chinese', 346516: 'Business Deveplomen...</td>\n",
       "      <td>{1: 'Bonus', 5: 'Awards', 15: 'Others'}</td>\n",
       "      <td>{8: 'Consulting', 11: 'Customer Service', 58: ...</td>\n",
       "    </tr>\n",
       "    <tr>\n",
       "      <th>8999</th>\n",
       "      <td>{184: 'Risk', 29886: 'Business consulting', 16...</td>\n",
       "      <td>{1: 'Bonus', 5: 'Awards', 15: 'Others'}</td>\n",
       "      <td>{8: 'Consulting', 58: 'Auditing', 59: 'Finance...</td>\n",
       "    </tr>\n",
       "  </tbody>\n",
       "</table>\n",
       "<p>8972 rows × 3 columns</p>\n",
       "</div>"
      ],
      "text/plain": [
       "                                                 skills  \\\n",
       "0     {1919: 'Kênh MT', 1921: 'Hàng Tiêu Dùng', 666:...   \n",
       "1     {27810: 'Marketing Materials Strategy', 333851...   \n",
       "2     {93: 'Kế Toán Tổng Hợp', 941661: 'Hạch Toán Ch...   \n",
       "3     {100: 'English', 651: 'Trade Marketing', 15900...   \n",
       "4     {17750: 'Tìm Kiếm Khách Hàng', 354: 'Chăm Sóc ...   \n",
       "...                                                 ...   \n",
       "8995  {618943: 'Government Organizations', 236965: '...   \n",
       "8996  {618943: 'Government Organizations', 941031: '...   \n",
       "8997  {67: 'Xuất Nhập Khẩu', 26367: 'Booking', 23667...   \n",
       "8998  {9428: 'Chinese', 346516: 'Business Deveplomen...   \n",
       "8999  {184: 'Risk', 29886: 'Business consulting', 16...   \n",
       "\n",
       "                                               benefits  \\\n",
       "0     {1: 'Bonus', 2: 'Healthcare Plan', 10: 'Team A...   \n",
       "1     {1: 'Bonus', 2: 'Healthcare Plan', 4: 'Training'}   \n",
       "2     {1: 'Bonus', 2: 'Healthcare Plan', 10: 'Team A...   \n",
       "3     {1: 'Bonus', 2: 'Healthcare Plan', 9: 'Travel ...   \n",
       "4              {1: 'Bonus', 4: 'Training', 5: 'Awards'}   \n",
       "...                                                 ...   \n",
       "8995            {1: 'Bonus', 5: 'Awards', 15: 'Others'}   \n",
       "8996            {1: 'Bonus', 5: 'Awards', 15: 'Others'}   \n",
       "8997  {2: 'Healthcare Plan', 3: 'Paid Leave', 10: 'T...   \n",
       "8998            {1: 'Bonus', 5: 'Awards', 15: 'Others'}   \n",
       "8999            {1: 'Bonus', 5: 'Awards', 15: 'Others'}   \n",
       "\n",
       "                                             industries  \n",
       "0     {11: 'Customer Service', 32: 'Retail/Wholesale...  \n",
       "1     {3: 'Advertising/Promotion/PR', 27: 'Marketing...  \n",
       "2     {1: 'Accounting', 58: 'Auditing', 59: 'Finance...  \n",
       "3     {3: 'Advertising/Promotion/PR', 27: 'Marketing...  \n",
       "4     {33: 'Sales', 42: 'Banking', 59: 'Finance/Inve...  \n",
       "...                                                 ...  \n",
       "8995  {8: 'Consulting', 58: 'Auditing', 69: 'Plannin...  \n",
       "8996  {8: 'Consulting', 58: 'Auditing', 69: 'Plannin...  \n",
       "8997     {19: 'Export-Import', 36: 'Freight/Logistics'}  \n",
       "8998  {8: 'Consulting', 11: 'Customer Service', 58: ...  \n",
       "8999  {8: 'Consulting', 58: 'Auditing', 59: 'Finance...  \n",
       "\n",
       "[8972 rows x 3 columns]"
      ]
     },
     "execution_count": 22,
     "metadata": {},
     "output_type": "execute_result"
    }
   ],
   "source": [
    "temp_df['skills'] = temp_df['skills'].apply(lambda x: clean_skills(x))\n",
    "temp_df['benefits'] = temp_df['benefits'].apply(lambda x: clean_benefits(x))\n",
    "temp_df['industries'] = temp_df['industries'].apply(lambda x: clean_industries(x))\n",
    "temp_df[['skills', 'benefits', 'industries']]"
   ]
  },
  {
   "cell_type": "markdown",
   "metadata": {},
   "source": [
    "<h5><i>7. Preprocessing column \"typeWorkingId\" </i></h5>"
   ]
  },
  {
   "cell_type": "code",
   "execution_count": 23,
   "metadata": {},
   "outputs": [
    {
     "data": {
      "text/plain": [
       "Int64Index([1, 2, 3, 4, 5, 6, 7], dtype='int64')"
      ]
     },
     "execution_count": 23,
     "metadata": {},
     "output_type": "execute_result"
    }
   ],
   "source": [
    "temp_df[\"typeWorkingId\"].value_counts().sort_index().index"
   ]
  },
  {
   "cell_type": "markdown",
   "metadata": {},
   "source": [
    "=> It will have 7 type of working with id 1 -> 7"
   ]
  },
  {
   "cell_type": "markdown",
   "metadata": {},
   "source": [
    "When going to **VietnamWorks** and check the information of workingId, I find out: \n",
    "+ With Id 1 in \"typeWorkingId\", it will be **Full-time**\n",
    "+ With Id 2 in \"typeWorkingId\", it will be **Part-time**\n",
    "+ With Id 3 in \"typeWorkingId\", it will be **Internship**\n",
    "+ With Id 4 in \"typeWorkingId\", it will be **Online jobs**\n",
    "+ With Id 5 in \"typeWorkingId\", it will be **Freelancer**\n",
    "+ With Id 6 in \"typeWorkingId\", it will be **Seasonal**\n",
    "+ With Id 7 in \"typeWorkingId\", it will be **Other**\n",
    "\n",
    "From that, I will append 1 column \"typeWorkingName to show it clearly: "
   ]
  },
  {
   "cell_type": "code",
   "execution_count": 24,
   "metadata": {},
   "outputs": [],
   "source": [
    "def convert_typeWorkingName(id):\n",
    "    if (id == 1):\n",
    "        return 'Full-time'\n",
    "    elif (id == 2):\n",
    "        return 'Part-time'\n",
    "    elif (id == 3):\n",
    "        return 'Internship'\n",
    "    elif (id == 4):\n",
    "        return 'Online jobs'\n",
    "    elif (id == 5):\n",
    "        return 'Freelancer'\n",
    "    elif (id == 6):\n",
    "        return 'Seasonal'\n",
    "    else:\n",
    "        return 'Other'"
   ]
  },
  {
   "cell_type": "code",
   "execution_count": 25,
   "metadata": {},
   "outputs": [],
   "source": [
    "temp_df['typeWorkingName'] = [convert_typeWorkingName(x) for x in temp_df['typeWorkingId']]"
   ]
  },
  {
   "cell_type": "markdown",
   "metadata": {},
   "source": [
    "<h5><i>8. Preprocessing column \"numOfApplications\" </i></h5>"
   ]
  },
  {
   "cell_type": "code",
   "execution_count": 26,
   "metadata": {},
   "outputs": [
    {
     "data": {
      "text/plain": [
       "0      1953\n",
       "1       276\n",
       "4       200\n",
       "2       189\n",
       "3       188\n",
       "       ... \n",
       "231       1\n",
       "354       1\n",
       "212       1\n",
       "513       1\n",
       "239       1\n",
       "Name: numOfApplications, Length: 311, dtype: int64"
      ]
     },
     "execution_count": 26,
     "metadata": {},
     "output_type": "execute_result"
    }
   ],
   "source": [
    "temp_df['numOfApplications'].value_counts()"
   ]
  },
  {
   "cell_type": "markdown",
   "metadata": {},
   "source": [
    "=> As we can see in information above, number of applications are 0 is 1953, so we can remove it or append mean, mode, median of this columns for these blanks, but I will keep it to make predictation for number of applications."
   ]
  },
  {
   "cell_type": "markdown",
   "metadata": {},
   "source": [
    "<h5><i>9. Fill NaN</i></h5>"
   ]
  },
  {
   "cell_type": "code",
   "execution_count": 27,
   "metadata": {},
   "outputs": [
    {
     "name": "stdout",
     "output_type": "stream",
     "text": [
      "jobDescription       2\n",
      "address            192\n",
      "companySize       1554\n",
      "dtype: int64\n"
     ]
    }
   ],
   "source": [
    "missing_values = temp_df.isnull().sum()\n",
    "columns_with_missing_values = missing_values[missing_values > 0]\n",
    "print(columns_with_missing_values)"
   ]
  },
  {
   "cell_type": "code",
   "execution_count": 28,
   "metadata": {},
   "outputs": [
    {
     "name": "stdout",
     "output_type": "stream",
     "text": [
      "Index(['isAnonymous', 'isSalaryVisible', 'salary', 'salaryMax', 'salaryMin',\n",
      "       'numOfApplications'],\n",
      "      dtype='object')\n"
     ]
    }
   ],
   "source": [
    "columns_with_zero = (temp_df == 0).any()\n",
    "print(columns_with_zero[columns_with_zero].index)"
   ]
  },
  {
   "cell_type": "markdown",
   "metadata": {},
   "source": [
    "=> Salary column will be predicted by model so we don't need to fill nan and about some solumns with zero don't have a lot of influences so we don't need to care about it. About companySize, we will fill NaN by mode"
   ]
  },
  {
   "cell_type": "code",
   "execution_count": 29,
   "metadata": {},
   "outputs": [],
   "source": [
    "mode_value = temp_df['companySize'].mode().values[0]\n",
    "temp_df['companySize'].fillna(temp_df['companySize'].apply(lambda x: mode_value if pd.isnull(x) else x), inplace = True)"
   ]
  },
  {
   "cell_type": "markdown",
   "metadata": {},
   "source": [
    "<h5><i>10. Write to new csv</i></h5>"
   ]
  },
  {
   "cell_type": "code",
   "execution_count": 30,
   "metadata": {},
   "outputs": [],
   "source": [
    "temp_df.to_csv('data/new_data.csv',index = False)"
   ]
  }
 ],
 "metadata": {
  "kernelspec": {
   "display_name": "Python 3",
   "language": "python",
   "name": "python3"
  },
  "language_info": {
   "codemirror_mode": {
    "name": "ipython",
    "version": 3
   },
   "file_extension": ".py",
   "mimetype": "text/x-python",
   "name": "python",
   "nbconvert_exporter": "python",
   "pygments_lexer": "ipython3",
   "version": "3.9.0"
  },
  "orig_nbformat": 4
 },
 "nbformat": 4,
 "nbformat_minor": 2
}
