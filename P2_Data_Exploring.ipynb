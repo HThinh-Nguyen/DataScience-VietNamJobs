{
 "cells": [
  {
   "cell_type": "markdown",
   "metadata": {},
   "source": [
    "<h3> <b>Process 2: Data Exploring</b>\n",
    "\n",
    "<hr/>"
   ]
  },
  {
   "cell_type": "markdown",
   "metadata": {},
   "source": [
    "<h4> <b>Install & Import</b> </h4>"
   ]
  },
  {
   "cell_type": "markdown",
   "metadata": {},
   "source": [
    "Install & Import the necessary libraries."
   ]
  },
  {
   "cell_type": "code",
   "execution_count": 41,
   "metadata": {},
   "outputs": [],
   "source": [
    "# Install libraries"
   ]
  },
  {
   "cell_type": "code",
   "execution_count": 42,
   "metadata": {},
   "outputs": [],
   "source": [
    "# Import libraries\n",
    "import pandas as pd"
   ]
  },
  {
   "cell_type": "markdown",
   "metadata": {},
   "source": [
    "<hr/>\n",
    "<h4> <b>Read data & Create dataframe</b> </h4>"
   ]
  },
  {
   "cell_type": "code",
   "execution_count": 43,
   "metadata": {},
   "outputs": [
    {
     "data": {
      "text/html": [
       "<div>\n",
       "<style scoped>\n",
       "    .dataframe tbody tr th:only-of-type {\n",
       "        vertical-align: middle;\n",
       "    }\n",
       "\n",
       "    .dataframe tbody tr th {\n",
       "        vertical-align: top;\n",
       "    }\n",
       "\n",
       "    .dataframe thead th {\n",
       "        text-align: right;\n",
       "    }\n",
       "</style>\n",
       "<table border=\"1\" class=\"dataframe\">\n",
       "  <thead>\n",
       "    <tr style=\"text-align: right;\">\n",
       "      <th></th>\n",
       "      <th>jobId</th>\n",
       "      <th>jobTitle</th>\n",
       "      <th>jobUrl</th>\n",
       "      <th>userId</th>\n",
       "      <th>companyLogo</th>\n",
       "      <th>alias</th>\n",
       "      <th>createdOn</th>\n",
       "      <th>approvedOn</th>\n",
       "      <th>expiredOn</th>\n",
       "      <th>lastUpdatedOn</th>\n",
       "      <th>...</th>\n",
       "      <th>isMobileHotJob</th>\n",
       "      <th>isMobileTopJob</th>\n",
       "      <th>isBoldAndRedJob</th>\n",
       "      <th>isUrgentJob</th>\n",
       "      <th>isUrgentJobM</th>\n",
       "      <th>onlineOn</th>\n",
       "      <th>visibilityDisplay</th>\n",
       "      <th>priorityOrder</th>\n",
       "      <th>nearestGeoLoc</th>\n",
       "      <th>profilePublishedSiteMask</th>\n",
       "    </tr>\n",
       "  </thead>\n",
       "  <tbody>\n",
       "    <tr>\n",
       "      <th>0</th>\n",
       "      <td>1675231</td>\n",
       "      <td>Chuyên Viên Tối Ưu Website (UX / UI / CRO)</td>\n",
       "      <td>NaN</td>\n",
       "      <td>2300334</td>\n",
       "      <td>NaN</td>\n",
       "      <td>chuyen-vien-toi-uu-website-ux-ui-cro</td>\n",
       "      <td>NaN</td>\n",
       "      <td>2023-07-27T17:18:54+07:00</td>\n",
       "      <td>2023-08-26T23:59:59+07:00</td>\n",
       "      <td>NaN</td>\n",
       "      <td>...</td>\n",
       "      <td>True</td>\n",
       "      <td>False</td>\n",
       "      <td>False</td>\n",
       "      <td>False</td>\n",
       "      <td>False</td>\n",
       "      <td>2023-07-27T17:18:54+07:00</td>\n",
       "      <td>False</td>\n",
       "      <td>2023-07-27T17:18:54</td>\n",
       "      <td>NaN</td>\n",
       "      <td>0</td>\n",
       "    </tr>\n",
       "    <tr>\n",
       "      <th>1</th>\n",
       "      <td>1552302</td>\n",
       "      <td>Nhân Viên Kinh Doanh Kênh HORECA</td>\n",
       "      <td>NaN</td>\n",
       "      <td>7012449</td>\n",
       "      <td>https://images.vietnamworks.com/pictureofcompa...</td>\n",
       "      <td>nhan-vien-kinh-doanh-kenh-horeca-22</td>\n",
       "      <td>NaN</td>\n",
       "      <td>2023-07-27T17:17:32+07:00</td>\n",
       "      <td>2023-08-26T23:59:59+07:00</td>\n",
       "      <td>NaN</td>\n",
       "      <td>...</td>\n",
       "      <td>True</td>\n",
       "      <td>True</td>\n",
       "      <td>False</td>\n",
       "      <td>False</td>\n",
       "      <td>False</td>\n",
       "      <td>2023-07-27T17:17:32+07:00</td>\n",
       "      <td>False</td>\n",
       "      <td>2023-07-27T17:17:32</td>\n",
       "      <td>NaN</td>\n",
       "      <td>0</td>\n",
       "    </tr>\n",
       "    <tr>\n",
       "      <th>2</th>\n",
       "      <td>1675112</td>\n",
       "      <td>Tuyển Dụng Kỹ Thuật Lắp Đặt Điện + Điện Nhẹ (Đ...</td>\n",
       "      <td>NaN</td>\n",
       "      <td>4642915</td>\n",
       "      <td>https://images.vietnamworks.com/pictureofcompa...</td>\n",
       "      <td>tuyen-dung-ky-thuat-lap-dat-dien-dien-nhe-di-l...</td>\n",
       "      <td>NaN</td>\n",
       "      <td>2023-07-27T17:14:54+07:00</td>\n",
       "      <td>2023-08-26T23:59:59+07:00</td>\n",
       "      <td>NaN</td>\n",
       "      <td>...</td>\n",
       "      <td>True</td>\n",
       "      <td>True</td>\n",
       "      <td>False</td>\n",
       "      <td>False</td>\n",
       "      <td>False</td>\n",
       "      <td>2023-07-27T17:14:54+07:00</td>\n",
       "      <td>False</td>\n",
       "      <td>2023-07-27T17:14:54</td>\n",
       "      <td>NaN</td>\n",
       "      <td>0</td>\n",
       "    </tr>\n",
       "    <tr>\n",
       "      <th>3</th>\n",
       "      <td>1661222</td>\n",
       "      <td>Trưởng Phòng Kinh Doanh BĐS (Ecopark Đồng Nai ...</td>\n",
       "      <td>NaN</td>\n",
       "      <td>2108744</td>\n",
       "      <td>https://images.vietnamworks.com/pictureofcompa...</td>\n",
       "      <td>truong-phong-kinh-doanh-bds-ecopark-dong-nai-e...</td>\n",
       "      <td>NaN</td>\n",
       "      <td>2023-07-27T17:11:50+07:00</td>\n",
       "      <td>2023-08-26T23:59:59+07:00</td>\n",
       "      <td>NaN</td>\n",
       "      <td>...</td>\n",
       "      <td>True</td>\n",
       "      <td>True</td>\n",
       "      <td>False</td>\n",
       "      <td>False</td>\n",
       "      <td>False</td>\n",
       "      <td>2023-07-27T17:11:50+07:00</td>\n",
       "      <td>False</td>\n",
       "      <td>2023-07-27T17:11:50</td>\n",
       "      <td>NaN</td>\n",
       "      <td>1</td>\n",
       "    </tr>\n",
       "    <tr>\n",
       "      <th>4</th>\n",
       "      <td>1675070</td>\n",
       "      <td>Temporary Admin Executive (6-Month Contract)</td>\n",
       "      <td>NaN</td>\n",
       "      <td>981266</td>\n",
       "      <td>https://images.vietnamworks.com/pictureofcompa...</td>\n",
       "      <td>temporary-admin-executive-6-month-contract</td>\n",
       "      <td>NaN</td>\n",
       "      <td>2023-07-27T17:02:04+07:00</td>\n",
       "      <td>2023-08-26T23:59:59+07:00</td>\n",
       "      <td>NaN</td>\n",
       "      <td>...</td>\n",
       "      <td>True</td>\n",
       "      <td>True</td>\n",
       "      <td>False</td>\n",
       "      <td>False</td>\n",
       "      <td>False</td>\n",
       "      <td>2023-07-27T17:02:04+07:00</td>\n",
       "      <td>False</td>\n",
       "      <td>2023-07-27T17:02:04</td>\n",
       "      <td>NaN</td>\n",
       "      <td>2</td>\n",
       "    </tr>\n",
       "  </tbody>\n",
       "</table>\n",
       "<p>5 rows × 70 columns</p>\n",
       "</div>"
      ],
      "text/plain": [
       "     jobId                                           jobTitle  jobUrl  \\\n",
       "0  1675231         Chuyên Viên Tối Ưu Website (UX / UI / CRO)     NaN   \n",
       "1  1552302                   Nhân Viên Kinh Doanh Kênh HORECA     NaN   \n",
       "2  1675112  Tuyển Dụng Kỹ Thuật Lắp Đặt Điện + Điện Nhẹ (Đ...     NaN   \n",
       "3  1661222  Trưởng Phòng Kinh Doanh BĐS (Ecopark Đồng Nai ...     NaN   \n",
       "4  1675070       Temporary Admin Executive (6-Month Contract)     NaN   \n",
       "\n",
       "    userId                                        companyLogo  \\\n",
       "0  2300334                                                NaN   \n",
       "1  7012449  https://images.vietnamworks.com/pictureofcompa...   \n",
       "2  4642915  https://images.vietnamworks.com/pictureofcompa...   \n",
       "3  2108744  https://images.vietnamworks.com/pictureofcompa...   \n",
       "4   981266  https://images.vietnamworks.com/pictureofcompa...   \n",
       "\n",
       "                                               alias  createdOn  \\\n",
       "0               chuyen-vien-toi-uu-website-ux-ui-cro        NaN   \n",
       "1                nhan-vien-kinh-doanh-kenh-horeca-22        NaN   \n",
       "2  tuyen-dung-ky-thuat-lap-dat-dien-dien-nhe-di-l...        NaN   \n",
       "3  truong-phong-kinh-doanh-bds-ecopark-dong-nai-e...        NaN   \n",
       "4         temporary-admin-executive-6-month-contract        NaN   \n",
       "\n",
       "                  approvedOn                  expiredOn  lastUpdatedOn  ...  \\\n",
       "0  2023-07-27T17:18:54+07:00  2023-08-26T23:59:59+07:00            NaN  ...   \n",
       "1  2023-07-27T17:17:32+07:00  2023-08-26T23:59:59+07:00            NaN  ...   \n",
       "2  2023-07-27T17:14:54+07:00  2023-08-26T23:59:59+07:00            NaN  ...   \n",
       "3  2023-07-27T17:11:50+07:00  2023-08-26T23:59:59+07:00            NaN  ...   \n",
       "4  2023-07-27T17:02:04+07:00  2023-08-26T23:59:59+07:00            NaN  ...   \n",
       "\n",
       "   isMobileHotJob isMobileTopJob  isBoldAndRedJob  isUrgentJob  isUrgentJobM  \\\n",
       "0            True          False            False        False         False   \n",
       "1            True           True            False        False         False   \n",
       "2            True           True            False        False         False   \n",
       "3            True           True            False        False         False   \n",
       "4            True           True            False        False         False   \n",
       "\n",
       "                    onlineOn  visibilityDisplay        priorityOrder  \\\n",
       "0  2023-07-27T17:18:54+07:00              False  2023-07-27T17:18:54   \n",
       "1  2023-07-27T17:17:32+07:00              False  2023-07-27T17:17:32   \n",
       "2  2023-07-27T17:14:54+07:00              False  2023-07-27T17:14:54   \n",
       "3  2023-07-27T17:11:50+07:00              False  2023-07-27T17:11:50   \n",
       "4  2023-07-27T17:02:04+07:00              False  2023-07-27T17:02:04   \n",
       "\n",
       "   nearestGeoLoc  profilePublishedSiteMask  \n",
       "0            NaN                         0  \n",
       "1            NaN                         0  \n",
       "2            NaN                         0  \n",
       "3            NaN                         1  \n",
       "4            NaN                         2  \n",
       "\n",
       "[5 rows x 70 columns]"
      ]
     },
     "execution_count": 43,
     "metadata": {},
     "output_type": "execute_result"
    }
   ],
   "source": [
    "df = pd.read_csv('data/raw_data.csv')\n",
    "df.head()"
   ]
  },
  {
   "cell_type": "markdown",
   "metadata": {},
   "source": [
    "<hr/>\n",
    "<h4> <b>Explore data</b> </h4>\n"
   ]
  },
  {
   "cell_type": "markdown",
   "metadata": {},
   "source": [
    "<h5><i>1. Shape</i></h5>"
   ]
  },
  {
   "cell_type": "code",
   "execution_count": 44,
   "metadata": {},
   "outputs": [
    {
     "data": {
      "text/plain": [
       "(9000, 70)"
      ]
     },
     "execution_count": 44,
     "metadata": {},
     "output_type": "execute_result"
    }
   ],
   "source": [
    "df.shape"
   ]
  },
  {
   "cell_type": "markdown",
   "metadata": {},
   "source": [
    "<h5><i>2. Overview information of each column</i><h5>"
   ]
  },
  {
   "cell_type": "code",
   "execution_count": 45,
   "metadata": {},
   "outputs": [
    {
     "name": "stdout",
     "output_type": "stream",
     "text": [
      "<class 'pandas.core.frame.DataFrame'>\n",
      "RangeIndex: 9000 entries, 0 to 8999\n",
      "Data columns (total 70 columns):\n",
      " #   Column                    Non-Null Count  Dtype  \n",
      "---  ------                    --------------  -----  \n",
      " 0   jobId                     9000 non-null   int64  \n",
      " 1   jobTitle                  9000 non-null   object \n",
      " 2   jobUrl                    0 non-null      float64\n",
      " 3   userId                    9000 non-null   int64  \n",
      " 4   companyLogo               8465 non-null   object \n",
      " 5   alias                     9000 non-null   object \n",
      " 6   createdOn                 0 non-null      float64\n",
      " 7   approvedOn                9000 non-null   object \n",
      " 8   expiredOn                 9000 non-null   object \n",
      " 9   lastUpdatedOn             0 non-null      float64\n",
      " 10  lastSyncedOn              0 non-null      float64\n",
      " 11  companyName               9000 non-null   object \n",
      " 12  companyId                 9000 non-null   int64  \n",
      " 13  companyProfile            0 non-null      float64\n",
      " 14  companySizeId             9000 non-null   int64  \n",
      " 15  contactName               0 non-null      float64\n",
      " 16  createdBy                 9000 non-null   int64  \n",
      " 17  isOnline                  0 non-null      float64\n",
      " 18  isActive                  0 non-null      float64\n",
      " 19  isApproved                0 non-null      float64\n",
      " 20  isUnpaidDisable           9000 non-null   int64  \n",
      " 21  isCompleted               0 non-null      float64\n",
      " 22  isAnonymous               9000 non-null   bool   \n",
      " 23  isSalaryVisible           9000 non-null   bool   \n",
      " 24  isShowLogo                9000 non-null   bool   \n",
      " 25  isShowLogoInSearch        9000 non-null   bool   \n",
      " 26  jobDescription            8999 non-null   object \n",
      " 27  jobRequirement            9000 non-null   object \n",
      " 28  jobLevelId                9000 non-null   int64  \n",
      " 29  languageSelectedId        9000 non-null   int64  \n",
      " 30  redirectTo                0 non-null      float64\n",
      " 31  requiredCoverLetter       9000 non-null   int64  \n",
      " 32  salary                    9000 non-null   int64  \n",
      " 33  salaryMax                 9000 non-null   int64  \n",
      " 34  salaryMin                 9000 non-null   int64  \n",
      " 35  typeWorkingId             9000 non-null   int64  \n",
      " 36  skills                    9000 non-null   object \n",
      " 37  benefits                  9000 non-null   object \n",
      " 38  workingLocations          9000 non-null   object \n",
      " 39  address                   8809 non-null   object \n",
      " 40  industries                9000 non-null   object \n",
      " 41  industriesV3              0 non-null      float64\n",
      " 42  jobLevel                  9000 non-null   object \n",
      " 43  jobLevelVI                9000 non-null   object \n",
      " 44  languageId                9000 non-null   int64  \n",
      " 45  locations                 0 non-null      float64\n",
      " 46  canonical                 0 non-null      float64\n",
      " 47  isShowContact             0 non-null      float64\n",
      " 48  salaryRangeId             9000 non-null   int64  \n",
      " 49  requiredResume            9000 non-null   bool   \n",
      " 50  companySize               7463 non-null   object \n",
      " 51  companySizeVI             0 non-null      float64\n",
      " 52  languageSelectedVI        0 non-null      float64\n",
      " 53  languageSelected          9000 non-null   object \n",
      " 54  simpleServices            2015 non-null   object \n",
      " 55  services                  7785 non-null   object \n",
      " 56  prettySalary              9000 non-null   object \n",
      " 57  durationDays              9000 non-null   int64  \n",
      " 58  numOfApplications         9000 non-null   int64  \n",
      " 59  emailAddress              0 non-null      float64\n",
      " 60  isMobileHotJob            9000 non-null   bool   \n",
      " 61  isMobileTopJob            9000 non-null   bool   \n",
      " 62  isBoldAndRedJob           9000 non-null   bool   \n",
      " 63  isUrgentJob               9000 non-null   bool   \n",
      " 64  isUrgentJobM              9000 non-null   bool   \n",
      " 65  onlineOn                  9000 non-null   object \n",
      " 66  visibilityDisplay         9000 non-null   bool   \n",
      " 67  priorityOrder             9000 non-null   object \n",
      " 68  nearestGeoLoc             0 non-null      float64\n",
      " 69  profilePublishedSiteMask  9000 non-null   int64  \n",
      "dtypes: bool(11), float64(19), int64(18), object(22)\n",
      "memory usage: 4.1+ MB\n"
     ]
    }
   ],
   "source": [
    "df.info()"
   ]
  },
  {
   "cell_type": "markdown",
   "metadata": {},
   "source": [
    "**Note**: A lot of columns are missed all values and we will drop all columns having that. "
   ]
  },
  {
   "cell_type": "markdown",
   "metadata": {},
   "source": [
    "<h5><i>3. Meaning of columns</i></h5>"
   ]
  },
  {
   "cell_type": "markdown",
   "metadata": {},
   "source": [
    "Meaning of each column in df:\n",
    "\n",
    "We see all meaning of columns and select columns which can be dropped\n",
    "\n",
    "| Column              |   Meaning                                   | Drop       | \n",
    "|:-------------------:|:-------------------------------------------:|:----------:|\n",
    "| jobId               | Identification number of each job           |            | \n",
    "| jobTitle            | Title of each job                           |            | \n",
    "| jobUrl              | Url of each job                             |    X       | \n",
    "| userId              | Maybe it is the identification number of user <br> who post this recruit information |   X         | \n",
    "| companyLogo         | Logo of each company                        |    X       | \n",
    "| alias         | Alias of each company                        |    X       | \n",
    "| createdOn         | Maybe it is date which information is created by recruiter (user)                      |    X       | \n",
    "| approvedOn        | Maybe it is date which information is approved to post by vietnamwork                       |    X       | \n",
    "| expiredOn       | Maybe it is date which information is due                       |    X       | \n",
    "| lastUpdatedOn       | Maybe it is the last date which information is updated                      |    X       | \n",
    "| lastSyncedOn      | Maybe it is the last date which information is synced                      |    X       | \n",
    "| companyName      | Name of each company                    |          | \n",
    "| companyId      | Identification of each company                    |          | \n",
    "| companyProfile      | Profile of each company (All row is null)                    |      X    | \n",
    "| companySizeId      | Size identification of each company (All row is 0)                    |      X    | \n",
    "| contactName     | Contach name for each company (All row is null)                    |      X    | \n",
    "| createdBy       | All row is 0                   |      X    | \n",
    "| isOnline      | All row is null                  |      X    | \n",
    "| isActive      | All row is null                  |      X    | \n",
    "| isApproved      | All row is null                  |      X    | \n",
    "| isUnpaidDisable       | All row is 0                   |      X    | \n",
    "| isCompleted      | All row is null                   |      X    | \n",
    "| isAnonymous       | The kind of each job (private or public )                  |      | \n",
    "| isSalaryVisible       | Is the salary showed                    |      | \n",
    "| isShowLogo       | Is the logo showed                  |      X    | \n",
    "| isShowLogoInSearch      | Is the logo showed in searching                  |      X    | \n",
    "| jobDescription       | Description of each job                  |          | \n",
    "| jobRequirement      | Requirement of each job                  |          | \n",
    "| jobLevelId       | LevelId of each job                  |          | \n",
    "| languageSelectedId       | All row is 0                   |      X    | \n",
    "| redirectTo       | All row is null                   |      X    | \n",
    "| requiredCoverLetter       | All row is 0                   |      X    | \n",
    "| salary       | Salary for each work                  |        | \n",
    "| salaryMax      | Max salary for each work                  |          | \n",
    "| salaryMin      | Min salary for each work                  |          | \n",
    "| typeWorkingId     | All row is null               |          | \n",
    "| skills      | Necessary skills for each work                  |          | \n",
    "| benefits     | Benefits for each work             |          | \n",
    "| workingLocations    | Locations for each work               |          | \n",
    "| address     | Workplace for each work              |          |\n",
    "| industries     | Industries about each work               |          | \n",
    "| industriesV3     | All row is null               |     X     | \n",
    "| jobLevel     | Level of each job (Common)             |          | \n",
    "| jobLevelVI    | Level of each job (Entail)               |          | \n",
    "| languageId     | Identification of each language               |         | \n",
    "| locations     | All row is null               |   X       | \n",
    "| canonical    | All row is null               |     X     | \n",
    "| isShowContact    | All row is 0              |     X     | \n",
    "| salaryRangeId     | All row is null               |    X      | \n",
    "| requiredResume     | All row is FALSE               |     X     | \n",
    "| companySize     | The size of each company              |         | \n",
    "| companySizeVI     | All row is null               |     X     | \n",
    "| languageSelectedVI    | All row is null               |   X       | \n",
    "| languageSelected    | Forced language in each company               |         | \n",
    "| prettySalary     |  Pretty salary for each work             |          | \n",
    "| durationDays     |  Date due to submit CV             |          | \n",
    "| ...    | ...              |       X   | \n",
    "\n",
    "\n",
    "\n",
    "\n",
    "\n",
    "\n",
    "\n",
    "\n"
   ]
  },
  {
   "cell_type": "code",
   "execution_count": 46,
   "metadata": {},
   "outputs": [
    {
     "data": {
      "text/plain": [
       "Index(['jobId', 'jobTitle', 'jobUrl', 'userId', 'companyLogo', 'alias',\n",
       "       'createdOn', 'approvedOn', 'expiredOn', 'lastUpdatedOn', 'lastSyncedOn',\n",
       "       'companyName', 'companyId', 'companyProfile', 'companySizeId',\n",
       "       'contactName', 'createdBy', 'isOnline', 'isActive', 'isApproved',\n",
       "       'isUnpaidDisable', 'isCompleted', 'isAnonymous', 'isSalaryVisible',\n",
       "       'isShowLogo', 'isShowLogoInSearch', 'jobDescription', 'jobRequirement',\n",
       "       'jobLevelId', 'languageSelectedId', 'redirectTo', 'requiredCoverLetter',\n",
       "       'salary', 'salaryMax', 'salaryMin', 'typeWorkingId', 'skills',\n",
       "       'benefits', 'workingLocations', 'address', 'industries', 'industriesV3',\n",
       "       'jobLevel', 'jobLevelVI', 'languageId', 'locations', 'canonical',\n",
       "       'isShowContact', 'salaryRangeId', 'requiredResume', 'companySize',\n",
       "       'companySizeVI', 'languageSelectedVI', 'languageSelected',\n",
       "       'simpleServices', 'services', 'prettySalary', 'durationDays',\n",
       "       'numOfApplications', 'emailAddress', 'isMobileHotJob', 'isMobileTopJob',\n",
       "       'isBoldAndRedJob', 'isUrgentJob', 'isUrgentJobM', 'onlineOn',\n",
       "       'visibilityDisplay', 'priorityOrder', 'nearestGeoLoc',\n",
       "       'profilePublishedSiteMask'],\n",
       "      dtype='object')"
      ]
     },
     "execution_count": 46,
     "metadata": {},
     "output_type": "execute_result"
    }
   ],
   "source": [
    "drop = ['jobUrl','userId','companyLogo','alias', 'createdOn', 'approvedOn', 'expiredOn', 'lastUpdatedOn', 'lastSyncedOn', \n",
    "       'companyName', 'companyId', 'companyProfile', 'companySizeId',\n",
    "       'contactName', 'createdBy', 'isOnline', 'isActive', 'isApproved',\n",
    "       'isUnpaidDisable', 'isCompleted', 'isShowLogo', 'isShowLogoInSearch','languageSelectedId', 'redirectTo', 'requiredCoverLetter',\n",
    "       'industriesV3', 'languageId', 'locations', 'canonical',\n",
    "       'isShowContact', 'salaryRangeId', 'requiredResume',\n",
    "       'companySizeVI', 'languageSelectedVI','simpleServices', 'services',\n",
    "       'numOfApplications', 'emailAddress', 'isMobileHotJob', 'isMobileTopJob',\n",
    "       'isBoldAndRedJob', 'isUrgentJob', 'isUrgentJobM', 'onlineOn',\n",
    "       'visibilityDisplay', 'priorityOrder', 'nearestGeoLoc','profilePublishedSiteMask']\n",
    "df.columns"
   ]
  },
  {
   "cell_type": "markdown",
   "metadata": {},
   "source": [
    "<h5> <i>4. Meaning of rows</i> </h5>"
   ]
  },
  {
   "cell_type": "markdown",
   "metadata": {},
   "source": [
    "Each row is an recruitment information for a job. "
   ]
  },
  {
   "cell_type": "markdown",
   "metadata": {},
   "source": [
    "<h5><i>5. Check duplicated data </i></h5>"
   ]
  },
  {
   "cell_type": "code",
   "execution_count": 47,
   "metadata": {},
   "outputs": [
    {
     "data": {
      "text/plain": [
       "75"
      ]
     },
     "execution_count": 47,
     "metadata": {},
     "output_type": "execute_result"
    }
   ],
   "source": [
    "df[df.duplicated()].shape[0]"
   ]
  },
  {
   "cell_type": "markdown",
   "metadata": {},
   "source": [
    "**Note**: Dataset has 22 duplicated data and we will drop it in preprocessing data"
   ]
  },
  {
   "cell_type": "markdown",
   "metadata": {},
   "source": [
    "<h5><i>6. View some important columns </i></h5>"
   ]
  },
  {
   "cell_type": "markdown",
   "metadata": {},
   "source": [
    "*6.1. Columns \"salary\", \"salaryMax\", \"salaryMin\", \"prettySalary\"*"
   ]
  },
  {
   "cell_type": "code",
   "execution_count": 48,
   "metadata": {},
   "outputs": [
    {
     "data": {
      "text/html": [
       "<div>\n",
       "<style scoped>\n",
       "    .dataframe tbody tr th:only-of-type {\n",
       "        vertical-align: middle;\n",
       "    }\n",
       "\n",
       "    .dataframe tbody tr th {\n",
       "        vertical-align: top;\n",
       "    }\n",
       "\n",
       "    .dataframe thead th {\n",
       "        text-align: right;\n",
       "    }\n",
       "</style>\n",
       "<table border=\"1\" class=\"dataframe\">\n",
       "  <thead>\n",
       "    <tr style=\"text-align: right;\">\n",
       "      <th></th>\n",
       "      <th>salary</th>\n",
       "      <th>salaryMax</th>\n",
       "      <th>salaryMin</th>\n",
       "      <th>prettySalary</th>\n",
       "    </tr>\n",
       "  </thead>\n",
       "  <tbody>\n",
       "    <tr>\n",
       "      <th>0</th>\n",
       "      <td>0</td>\n",
       "      <td>0</td>\n",
       "      <td>0</td>\n",
       "      <td>Thương lượng</td>\n",
       "    </tr>\n",
       "    <tr>\n",
       "      <th>1</th>\n",
       "      <td>800</td>\n",
       "      <td>800</td>\n",
       "      <td>400</td>\n",
       "      <td>$400 - $800</td>\n",
       "    </tr>\n",
       "    <tr>\n",
       "      <th>2</th>\n",
       "      <td>840</td>\n",
       "      <td>840</td>\n",
       "      <td>336</td>\n",
       "      <td>$336 - $840</td>\n",
       "    </tr>\n",
       "    <tr>\n",
       "      <th>3</th>\n",
       "      <td>0</td>\n",
       "      <td>0</td>\n",
       "      <td>0</td>\n",
       "      <td>Thương lượng</td>\n",
       "    </tr>\n",
       "    <tr>\n",
       "      <th>4</th>\n",
       "      <td>0</td>\n",
       "      <td>0</td>\n",
       "      <td>0</td>\n",
       "      <td>Thương lượng</td>\n",
       "    </tr>\n",
       "    <tr>\n",
       "      <th>...</th>\n",
       "      <td>...</td>\n",
       "      <td>...</td>\n",
       "      <td>...</td>\n",
       "      <td>...</td>\n",
       "    </tr>\n",
       "    <tr>\n",
       "      <th>8995</th>\n",
       "      <td>0</td>\n",
       "      <td>0</td>\n",
       "      <td>0</td>\n",
       "      <td>Thương lượng</td>\n",
       "    </tr>\n",
       "    <tr>\n",
       "      <th>8996</th>\n",
       "      <td>0</td>\n",
       "      <td>0</td>\n",
       "      <td>0</td>\n",
       "      <td>Thương lượng</td>\n",
       "    </tr>\n",
       "    <tr>\n",
       "      <th>8997</th>\n",
       "      <td>3300</td>\n",
       "      <td>3300</td>\n",
       "      <td>2500</td>\n",
       "      <td>$2500 - $3300</td>\n",
       "    </tr>\n",
       "    <tr>\n",
       "      <th>8998</th>\n",
       "      <td>1000</td>\n",
       "      <td>1000</td>\n",
       "      <td>500</td>\n",
       "      <td>$500 - $1000</td>\n",
       "    </tr>\n",
       "    <tr>\n",
       "      <th>8999</th>\n",
       "      <td>1000</td>\n",
       "      <td>1000</td>\n",
       "      <td>500</td>\n",
       "      <td>$500 - $1000</td>\n",
       "    </tr>\n",
       "  </tbody>\n",
       "</table>\n",
       "<p>9000 rows × 4 columns</p>\n",
       "</div>"
      ],
      "text/plain": [
       "      salary  salaryMax  salaryMin   prettySalary\n",
       "0          0          0          0   Thương lượng\n",
       "1        800        800        400    $400 - $800\n",
       "2        840        840        336    $336 - $840\n",
       "3          0          0          0   Thương lượng\n",
       "4          0          0          0   Thương lượng\n",
       "...      ...        ...        ...            ...\n",
       "8995       0          0          0   Thương lượng\n",
       "8996       0          0          0   Thương lượng\n",
       "8997    3300       3300       2500  $2500 - $3300\n",
       "8998    1000       1000        500   $500 - $1000\n",
       "8999    1000       1000        500   $500 - $1000\n",
       "\n",
       "[9000 rows x 4 columns]"
      ]
     },
     "execution_count": 48,
     "metadata": {},
     "output_type": "execute_result"
    }
   ],
   "source": [
    "df[[\"salary\",\"salaryMax\",\"salaryMin\", \"prettySalary\"]]"
   ]
  },
  {
   "cell_type": "code",
   "execution_count": null,
   "metadata": {},
   "outputs": [],
   "source": []
  },
  {
   "cell_type": "markdown",
   "metadata": {},
   "source": [
    "<hr/>\n",
    "\n",
    "<h4><b> Summary</b><h4>"
   ]
  }
 ],
 "metadata": {
  "kernelspec": {
   "display_name": "Python 3",
   "language": "python",
   "name": "python3"
  },
  "language_info": {
   "codemirror_mode": {
    "name": "ipython",
    "version": 3
   },
   "file_extension": ".py",
   "mimetype": "text/x-python",
   "name": "python",
   "nbconvert_exporter": "python",
   "pygments_lexer": "ipython3",
   "version": "3.9.0"
  },
  "orig_nbformat": 4
 },
 "nbformat": 4,
 "nbformat_minor": 2
}
