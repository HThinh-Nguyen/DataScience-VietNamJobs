{
 "cells": [
  {
   "cell_type": "markdown",
   "metadata": {},
   "source": [
    "<h3> <b>Process 2: Data Exploring</b>\n",
    "\n",
    "<hr/>"
   ]
  },
  {
   "cell_type": "markdown",
   "metadata": {},
   "source": [
    "<h4> <b>Install & Import</b> </h4>"
   ]
  },
  {
   "cell_type": "markdown",
   "metadata": {},
   "source": [
    "Install & Import the necessary libraries."
   ]
  },
  {
   "cell_type": "code",
   "execution_count": 2,
   "metadata": {},
   "outputs": [],
   "source": [
    "# Install libraries"
   ]
  },
  {
   "cell_type": "code",
   "execution_count": 20,
   "metadata": {},
   "outputs": [],
   "source": [
    "# Import libraries\n",
    "import pandas as pd\n",
    "import matplotlib.pyplot as plt"
   ]
  },
  {
   "cell_type": "markdown",
   "metadata": {},
   "source": [
    "<hr/>\n",
    "<h4> <b>Read data & Create dataframe</b> </h4>"
   ]
  },
  {
   "cell_type": "code",
   "execution_count": 4,
   "metadata": {},
   "outputs": [
    {
     "data": {
      "text/html": [
       "<div>\n",
       "<style scoped>\n",
       "    .dataframe tbody tr th:only-of-type {\n",
       "        vertical-align: middle;\n",
       "    }\n",
       "\n",
       "    .dataframe tbody tr th {\n",
       "        vertical-align: top;\n",
       "    }\n",
       "\n",
       "    .dataframe thead th {\n",
       "        text-align: right;\n",
       "    }\n",
       "</style>\n",
       "<table border=\"1\" class=\"dataframe\">\n",
       "  <thead>\n",
       "    <tr style=\"text-align: right;\">\n",
       "      <th></th>\n",
       "      <th>jobId</th>\n",
       "      <th>jobTitle</th>\n",
       "      <th>jobUrl</th>\n",
       "      <th>userId</th>\n",
       "      <th>companyLogo</th>\n",
       "      <th>alias</th>\n",
       "      <th>createdOn</th>\n",
       "      <th>approvedOn</th>\n",
       "      <th>expiredOn</th>\n",
       "      <th>lastUpdatedOn</th>\n",
       "      <th>...</th>\n",
       "      <th>isMobileHotJob</th>\n",
       "      <th>isMobileTopJob</th>\n",
       "      <th>isBoldAndRedJob</th>\n",
       "      <th>isUrgentJob</th>\n",
       "      <th>isUrgentJobM</th>\n",
       "      <th>onlineOn</th>\n",
       "      <th>visibilityDisplay</th>\n",
       "      <th>priorityOrder</th>\n",
       "      <th>nearestGeoLoc</th>\n",
       "      <th>profilePublishedSiteMask</th>\n",
       "    </tr>\n",
       "  </thead>\n",
       "  <tbody>\n",
       "    <tr>\n",
       "      <th>0</th>\n",
       "      <td>1675170</td>\n",
       "      <td>Nhân Viên Song Ngữ Trung-Anh !!!</td>\n",
       "      <td>NaN</td>\n",
       "      <td>5645350</td>\n",
       "      <td>https://images.vietnamworks.com/pictureofcompa...</td>\n",
       "      <td>nhan-vien-song-ngu-trung-anh-1-1</td>\n",
       "      <td>NaN</td>\n",
       "      <td>2023-07-27T17:24:20+07:00</td>\n",
       "      <td>2023-08-26T23:59:59+07:00</td>\n",
       "      <td>NaN</td>\n",
       "      <td>...</td>\n",
       "      <td>True</td>\n",
       "      <td>True</td>\n",
       "      <td>False</td>\n",
       "      <td>False</td>\n",
       "      <td>False</td>\n",
       "      <td>2023-07-27T17:24:20+07:00</td>\n",
       "      <td>False</td>\n",
       "      <td>2023-07-27T17:24:20</td>\n",
       "      <td>NaN</td>\n",
       "      <td>2</td>\n",
       "    </tr>\n",
       "    <tr>\n",
       "      <th>1</th>\n",
       "      <td>1675231</td>\n",
       "      <td>Chuyên Viên Tối Ưu Website (UX / UI / CRO)</td>\n",
       "      <td>NaN</td>\n",
       "      <td>2300334</td>\n",
       "      <td>NaN</td>\n",
       "      <td>chuyen-vien-toi-uu-website-ux-ui-cro</td>\n",
       "      <td>NaN</td>\n",
       "      <td>2023-07-27T17:18:54+07:00</td>\n",
       "      <td>2023-08-26T23:59:59+07:00</td>\n",
       "      <td>NaN</td>\n",
       "      <td>...</td>\n",
       "      <td>True</td>\n",
       "      <td>False</td>\n",
       "      <td>False</td>\n",
       "      <td>False</td>\n",
       "      <td>False</td>\n",
       "      <td>2023-07-27T17:18:54+07:00</td>\n",
       "      <td>False</td>\n",
       "      <td>2023-07-27T17:18:54</td>\n",
       "      <td>NaN</td>\n",
       "      <td>0</td>\n",
       "    </tr>\n",
       "    <tr>\n",
       "      <th>2</th>\n",
       "      <td>1552302</td>\n",
       "      <td>Nhân Viên Kinh Doanh Kênh HORECA</td>\n",
       "      <td>NaN</td>\n",
       "      <td>7012449</td>\n",
       "      <td>https://images.vietnamworks.com/pictureofcompa...</td>\n",
       "      <td>nhan-vien-kinh-doanh-kenh-horeca-22</td>\n",
       "      <td>NaN</td>\n",
       "      <td>2023-07-27T17:17:32+07:00</td>\n",
       "      <td>2023-08-26T23:59:59+07:00</td>\n",
       "      <td>NaN</td>\n",
       "      <td>...</td>\n",
       "      <td>True</td>\n",
       "      <td>True</td>\n",
       "      <td>False</td>\n",
       "      <td>False</td>\n",
       "      <td>False</td>\n",
       "      <td>2023-07-27T17:17:32+07:00</td>\n",
       "      <td>False</td>\n",
       "      <td>2023-07-27T17:17:32</td>\n",
       "      <td>NaN</td>\n",
       "      <td>0</td>\n",
       "    </tr>\n",
       "    <tr>\n",
       "      <th>3</th>\n",
       "      <td>1675112</td>\n",
       "      <td>Tuyển Dụng Kỹ Thuật Lắp Đặt Điện + Điện Nhẹ (Đ...</td>\n",
       "      <td>NaN</td>\n",
       "      <td>4642915</td>\n",
       "      <td>https://images.vietnamworks.com/pictureofcompa...</td>\n",
       "      <td>tuyen-dung-ky-thuat-lap-dat-dien-dien-nhe-di-l...</td>\n",
       "      <td>NaN</td>\n",
       "      <td>2023-07-27T17:14:54+07:00</td>\n",
       "      <td>2023-08-26T23:59:59+07:00</td>\n",
       "      <td>NaN</td>\n",
       "      <td>...</td>\n",
       "      <td>True</td>\n",
       "      <td>True</td>\n",
       "      <td>False</td>\n",
       "      <td>False</td>\n",
       "      <td>False</td>\n",
       "      <td>2023-07-27T17:14:54+07:00</td>\n",
       "      <td>False</td>\n",
       "      <td>2023-07-27T17:14:54</td>\n",
       "      <td>NaN</td>\n",
       "      <td>0</td>\n",
       "    </tr>\n",
       "    <tr>\n",
       "      <th>4</th>\n",
       "      <td>1661222</td>\n",
       "      <td>Trưởng Phòng Kinh Doanh BĐS (Ecopark Đồng Nai ...</td>\n",
       "      <td>NaN</td>\n",
       "      <td>2108744</td>\n",
       "      <td>https://images.vietnamworks.com/pictureofcompa...</td>\n",
       "      <td>truong-phong-kinh-doanh-bds-ecopark-dong-nai-e...</td>\n",
       "      <td>NaN</td>\n",
       "      <td>2023-07-27T17:11:50+07:00</td>\n",
       "      <td>2023-08-26T23:59:59+07:00</td>\n",
       "      <td>NaN</td>\n",
       "      <td>...</td>\n",
       "      <td>True</td>\n",
       "      <td>True</td>\n",
       "      <td>False</td>\n",
       "      <td>False</td>\n",
       "      <td>False</td>\n",
       "      <td>2023-07-27T17:11:50+07:00</td>\n",
       "      <td>False</td>\n",
       "      <td>2023-07-27T17:11:50</td>\n",
       "      <td>NaN</td>\n",
       "      <td>1</td>\n",
       "    </tr>\n",
       "  </tbody>\n",
       "</table>\n",
       "<p>5 rows × 70 columns</p>\n",
       "</div>"
      ],
      "text/plain": [
       "     jobId                                           jobTitle  jobUrl  \\\n",
       "0  1675170                   Nhân Viên Song Ngữ Trung-Anh !!!     NaN   \n",
       "1  1675231         Chuyên Viên Tối Ưu Website (UX / UI / CRO)     NaN   \n",
       "2  1552302                   Nhân Viên Kinh Doanh Kênh HORECA     NaN   \n",
       "3  1675112  Tuyển Dụng Kỹ Thuật Lắp Đặt Điện + Điện Nhẹ (Đ...     NaN   \n",
       "4  1661222  Trưởng Phòng Kinh Doanh BĐS (Ecopark Đồng Nai ...     NaN   \n",
       "\n",
       "    userId                                        companyLogo  \\\n",
       "0  5645350  https://images.vietnamworks.com/pictureofcompa...   \n",
       "1  2300334                                                NaN   \n",
       "2  7012449  https://images.vietnamworks.com/pictureofcompa...   \n",
       "3  4642915  https://images.vietnamworks.com/pictureofcompa...   \n",
       "4  2108744  https://images.vietnamworks.com/pictureofcompa...   \n",
       "\n",
       "                                               alias  createdOn  \\\n",
       "0                   nhan-vien-song-ngu-trung-anh-1-1        NaN   \n",
       "1               chuyen-vien-toi-uu-website-ux-ui-cro        NaN   \n",
       "2                nhan-vien-kinh-doanh-kenh-horeca-22        NaN   \n",
       "3  tuyen-dung-ky-thuat-lap-dat-dien-dien-nhe-di-l...        NaN   \n",
       "4  truong-phong-kinh-doanh-bds-ecopark-dong-nai-e...        NaN   \n",
       "\n",
       "                  approvedOn                  expiredOn  lastUpdatedOn  ...  \\\n",
       "0  2023-07-27T17:24:20+07:00  2023-08-26T23:59:59+07:00            NaN  ...   \n",
       "1  2023-07-27T17:18:54+07:00  2023-08-26T23:59:59+07:00            NaN  ...   \n",
       "2  2023-07-27T17:17:32+07:00  2023-08-26T23:59:59+07:00            NaN  ...   \n",
       "3  2023-07-27T17:14:54+07:00  2023-08-26T23:59:59+07:00            NaN  ...   \n",
       "4  2023-07-27T17:11:50+07:00  2023-08-26T23:59:59+07:00            NaN  ...   \n",
       "\n",
       "   isMobileHotJob isMobileTopJob  isBoldAndRedJob  isUrgentJob  isUrgentJobM  \\\n",
       "0            True           True            False        False         False   \n",
       "1            True          False            False        False         False   \n",
       "2            True           True            False        False         False   \n",
       "3            True           True            False        False         False   \n",
       "4            True           True            False        False         False   \n",
       "\n",
       "                    onlineOn  visibilityDisplay        priorityOrder  \\\n",
       "0  2023-07-27T17:24:20+07:00              False  2023-07-27T17:24:20   \n",
       "1  2023-07-27T17:18:54+07:00              False  2023-07-27T17:18:54   \n",
       "2  2023-07-27T17:17:32+07:00              False  2023-07-27T17:17:32   \n",
       "3  2023-07-27T17:14:54+07:00              False  2023-07-27T17:14:54   \n",
       "4  2023-07-27T17:11:50+07:00              False  2023-07-27T17:11:50   \n",
       "\n",
       "   nearestGeoLoc  profilePublishedSiteMask  \n",
       "0            NaN                         2  \n",
       "1            NaN                         0  \n",
       "2            NaN                         0  \n",
       "3            NaN                         0  \n",
       "4            NaN                         1  \n",
       "\n",
       "[5 rows x 70 columns]"
      ]
     },
     "execution_count": 4,
     "metadata": {},
     "output_type": "execute_result"
    }
   ],
   "source": [
    "df = pd.read_csv('data/raw_data.csv')\n",
    "df.head()"
   ]
  },
  {
   "cell_type": "markdown",
   "metadata": {},
   "source": [
    "<hr/>\n",
    "<h4> <b>Explore data</b> </h4>\n"
   ]
  },
  {
   "cell_type": "markdown",
   "metadata": {},
   "source": [
    "<h5><i>1. Shape</i></h5>"
   ]
  },
  {
   "cell_type": "code",
   "execution_count": 5,
   "metadata": {},
   "outputs": [
    {
     "data": {
      "text/plain": [
       "(9000, 70)"
      ]
     },
     "execution_count": 5,
     "metadata": {},
     "output_type": "execute_result"
    }
   ],
   "source": [
    "df.shape"
   ]
  },
  {
   "cell_type": "markdown",
   "metadata": {},
   "source": [
    "<h5><i>2. Overview information of each column</i><h5>"
   ]
  },
  {
   "cell_type": "code",
   "execution_count": 6,
   "metadata": {},
   "outputs": [
    {
     "name": "stdout",
     "output_type": "stream",
     "text": [
      "<class 'pandas.core.frame.DataFrame'>\n",
      "RangeIndex: 9000 entries, 0 to 8999\n",
      "Data columns (total 70 columns):\n",
      " #   Column                    Non-Null Count  Dtype  \n",
      "---  ------                    --------------  -----  \n",
      " 0   jobId                     9000 non-null   int64  \n",
      " 1   jobTitle                  9000 non-null   object \n",
      " 2   jobUrl                    0 non-null      float64\n",
      " 3   userId                    9000 non-null   int64  \n",
      " 4   companyLogo               8468 non-null   object \n",
      " 5   alias                     9000 non-null   object \n",
      " 6   createdOn                 0 non-null      float64\n",
      " 7   approvedOn                9000 non-null   object \n",
      " 8   expiredOn                 9000 non-null   object \n",
      " 9   lastUpdatedOn             0 non-null      float64\n",
      " 10  lastSyncedOn              0 non-null      float64\n",
      " 11  companyName               9000 non-null   object \n",
      " 12  companyId                 9000 non-null   int64  \n",
      " 13  companyProfile            0 non-null      float64\n",
      " 14  companySizeId             9000 non-null   int64  \n",
      " 15  contactName               0 non-null      float64\n",
      " 16  createdBy                 9000 non-null   int64  \n",
      " 17  isOnline                  0 non-null      float64\n",
      " 18  isActive                  0 non-null      float64\n",
      " 19  isApproved                0 non-null      float64\n",
      " 20  isUnpaidDisable           9000 non-null   int64  \n",
      " 21  isCompleted               0 non-null      float64\n",
      " 22  isAnonymous               9000 non-null   bool   \n",
      " 23  isSalaryVisible           9000 non-null   bool   \n",
      " 24  isShowLogo                9000 non-null   bool   \n",
      " 25  isShowLogoInSearch        9000 non-null   bool   \n",
      " 26  jobDescription            8999 non-null   object \n",
      " 27  jobRequirement            9000 non-null   object \n",
      " 28  jobLevelId                9000 non-null   int64  \n",
      " 29  languageSelectedId        9000 non-null   int64  \n",
      " 30  redirectTo                0 non-null      float64\n",
      " 31  requiredCoverLetter       9000 non-null   int64  \n",
      " 32  salary                    9000 non-null   int64  \n",
      " 33  salaryMax                 9000 non-null   int64  \n",
      " 34  salaryMin                 9000 non-null   int64  \n",
      " 35  typeWorkingId             9000 non-null   int64  \n",
      " 36  skills                    9000 non-null   object \n",
      " 37  benefits                  9000 non-null   object \n",
      " 38  workingLocations          9000 non-null   object \n",
      " 39  address                   8812 non-null   object \n",
      " 40  industries                9000 non-null   object \n",
      " 41  industriesV3              0 non-null      float64\n",
      " 42  jobLevel                  9000 non-null   object \n",
      " 43  jobLevelVI                9000 non-null   object \n",
      " 44  languageId                9000 non-null   int64  \n",
      " 45  locations                 0 non-null      float64\n",
      " 46  canonical                 0 non-null      float64\n",
      " 47  isShowContact             0 non-null      float64\n",
      " 48  salaryRangeId             9000 non-null   int64  \n",
      " 49  requiredResume            9000 non-null   bool   \n",
      " 50  companySize               7454 non-null   object \n",
      " 51  companySizeVI             0 non-null      float64\n",
      " 52  languageSelectedVI        0 non-null      float64\n",
      " 53  languageSelected          9000 non-null   object \n",
      " 54  simpleServices            2032 non-null   object \n",
      " 55  services                  7775 non-null   object \n",
      " 56  prettySalary              9000 non-null   object \n",
      " 57  durationDays              9000 non-null   int64  \n",
      " 58  numOfApplications         9000 non-null   int64  \n",
      " 59  emailAddress              0 non-null      float64\n",
      " 60  isMobileHotJob            9000 non-null   bool   \n",
      " 61  isMobileTopJob            9000 non-null   bool   \n",
      " 62  isBoldAndRedJob           9000 non-null   bool   \n",
      " 63  isUrgentJob               9000 non-null   bool   \n",
      " 64  isUrgentJobM              9000 non-null   bool   \n",
      " 65  onlineOn                  9000 non-null   object \n",
      " 66  visibilityDisplay         9000 non-null   bool   \n",
      " 67  priorityOrder             9000 non-null   object \n",
      " 68  nearestGeoLoc             0 non-null      float64\n",
      " 69  profilePublishedSiteMask  9000 non-null   int64  \n",
      "dtypes: bool(11), float64(19), int64(18), object(22)\n",
      "memory usage: 4.1+ MB\n"
     ]
    }
   ],
   "source": [
    "df.info()"
   ]
  },
  {
   "cell_type": "markdown",
   "metadata": {},
   "source": [
    "**Note**: A lot of columns are missed all values and we will drop all columns having that. "
   ]
  },
  {
   "cell_type": "markdown",
   "metadata": {},
   "source": [
    "<h5><i>3. Meaning of columns</i></h5>"
   ]
  },
  {
   "cell_type": "markdown",
   "metadata": {},
   "source": [
    "Meaning of each column in df:\n",
    "\n",
    "We see all meaning of columns and select columns which can be dropped\n",
    "\n",
    "| Column              |   Meaning                                   | Drop       | \n",
    "|:-------------------:|:-------------------------------------------:|:----------:|\n",
    "| jobId               | Identification number of each job           |            | \n",
    "| jobTitle            | Title of each job                           |            | \n",
    "| jobUrl              | Url of each job                             |    X       | \n",
    "| userId              | Maybe it is the identification number of user <br> who post this recruit information |   X         | \n",
    "| companyLogo         | Logo of each company                        |    X       | \n",
    "| alias         | Alias of each company                        |    X       | \n",
    "| createdOn         | Maybe it is date which information is created by recruiter (user)                      |    X       | \n",
    "| approvedOn        | Maybe it is date which information is approved to post by vietnamwork                       |    X       | \n",
    "| expiredOn       | Maybe it is date which information is due                       |    X       | \n",
    "| lastUpdatedOn       | Maybe it is the last date which information is updated                      |    X       | \n",
    "| lastSyncedOn      | Maybe it is the last date which information is synced                      |    X       | \n",
    "| companyName      | Name of each company                    |          | \n",
    "| companyId      | Identification of each company                    |          | \n",
    "| companyProfile      | Profile of each company (All row is null)                    |      X    | \n",
    "| companySizeId      | Size identification of each company (All row is 0)                    |      X    | \n",
    "| contactName     | Contach name for each company (All row is null)                    |      X    | \n",
    "| createdBy       | All row is 0                   |      X    | \n",
    "| isOnline      | All row is null                  |      X    | \n",
    "| isActive      | All row is null                  |      X    | \n",
    "| isApproved      | All row is null                  |      X    | \n",
    "| isUnpaidDisable       | All row is 0                   |      X    | \n",
    "| isCompleted      | All row is null                   |      X    | \n",
    "| isAnonymous       | The kind of each job (private or public )                  |      | \n",
    "| isSalaryVisible       | Is the salary showed                    |      | \n",
    "| isShowLogo       | Is the logo showed                  |      X    | \n",
    "| isShowLogoInSearch      | Is the logo showed in searching                  |      X    | \n",
    "| jobDescription       | Description of each job                  |          | \n",
    "| jobRequirement      | Requirement of each job                  |          | \n",
    "| jobLevelId       | LevelId of each job                  |          | \n",
    "| languageSelectedId       | All row is 0                   |      X    | \n",
    "| redirectTo       | All row is null                   |      X    | \n",
    "| requiredCoverLetter       | All row is 0                   |      X    | \n",
    "| salary       | Salary for each work                  |        | \n",
    "| salaryMax      | Max salary for each work                  |          | \n",
    "| salaryMin      | Min salary for each work                  |          | \n",
    "| typeWorkingId     | All row is null               |          | \n",
    "| skills      | Necessary skills for each work                  |          | \n",
    "| benefits     | Benefits for each work             |          | \n",
    "| workingLocations    | Locations for each work               |          | \n",
    "| address     | Workplace for each work              |          |\n",
    "| industries     | Industries about each work               |          | \n",
    "| industriesV3     | All row is null               |     X     | \n",
    "| jobLevel     | Level of each job (Common)             |          | \n",
    "| jobLevelVI    | Level of each job (Entail)               |          | \n",
    "| languageId     | Identification of each language               |         | \n",
    "| locations     | All row is null               |   X       | \n",
    "| canonical    | All row is null               |     X     | \n",
    "| isShowContact    | All row is 0              |     X     | \n",
    "| salaryRangeId     | All row is null               |    X      | \n",
    "| requiredResume     | All row is FALSE               |     X     | \n",
    "| companySize     | The size of each company              |         | \n",
    "| companySizeVI     | All row is null               |     X     | \n",
    "| languageSelectedVI    | All row is null               |   X       | \n",
    "| languageSelected    | Forced language in each company               |         | \n",
    "| prettySalary     |  Pretty salary for each work             |          | \n",
    "| durationDays     |  Date due to submit CV             |          | \n",
    "| ...    | ...              |       X   | \n",
    "\n",
    "\n",
    "\n",
    "\n",
    "\n",
    "\n",
    "\n",
    "\n"
   ]
  },
  {
   "cell_type": "code",
   "execution_count": 7,
   "metadata": {},
   "outputs": [
    {
     "data": {
      "text/plain": [
       "Index(['jobId', 'jobTitle', 'jobUrl', 'userId', 'companyLogo', 'alias',\n",
       "       'createdOn', 'approvedOn', 'expiredOn', 'lastUpdatedOn', 'lastSyncedOn',\n",
       "       'companyName', 'companyId', 'companyProfile', 'companySizeId',\n",
       "       'contactName', 'createdBy', 'isOnline', 'isActive', 'isApproved',\n",
       "       'isUnpaidDisable', 'isCompleted', 'isAnonymous', 'isSalaryVisible',\n",
       "       'isShowLogo', 'isShowLogoInSearch', 'jobDescription', 'jobRequirement',\n",
       "       'jobLevelId', 'languageSelectedId', 'redirectTo', 'requiredCoverLetter',\n",
       "       'salary', 'salaryMax', 'salaryMin', 'typeWorkingId', 'skills',\n",
       "       'benefits', 'workingLocations', 'address', 'industries', 'industriesV3',\n",
       "       'jobLevel', 'jobLevelVI', 'languageId', 'locations', 'canonical',\n",
       "       'isShowContact', 'salaryRangeId', 'requiredResume', 'companySize',\n",
       "       'companySizeVI', 'languageSelectedVI', 'languageSelected',\n",
       "       'simpleServices', 'services', 'prettySalary', 'durationDays',\n",
       "       'numOfApplications', 'emailAddress', 'isMobileHotJob', 'isMobileTopJob',\n",
       "       'isBoldAndRedJob', 'isUrgentJob', 'isUrgentJobM', 'onlineOn',\n",
       "       'visibilityDisplay', 'priorityOrder', 'nearestGeoLoc',\n",
       "       'profilePublishedSiteMask'],\n",
       "      dtype='object')"
      ]
     },
     "execution_count": 7,
     "metadata": {},
     "output_type": "execute_result"
    }
   ],
   "source": [
    "drop = ['jobUrl','userId','companyLogo','alias', 'createdOn', 'approvedOn', 'expiredOn', 'lastUpdatedOn', 'lastSyncedOn', \n",
    "       'companyName', 'companyId', 'companyProfile', 'companySizeId',\n",
    "       'contactName', 'createdBy', 'isOnline', 'isActive', 'isApproved',\n",
    "       'isUnpaidDisable', 'isCompleted', 'isShowLogo', 'isShowLogoInSearch','languageSelectedId', 'redirectTo', 'requiredCoverLetter',\n",
    "       'industriesV3', 'languageId', 'locations', 'canonical',\n",
    "       'isShowContact', 'salaryRangeId', 'requiredResume',\n",
    "       'companySizeVI', 'languageSelectedVI','simpleServices', 'services',\n",
    "       'numOfApplications', 'emailAddress', 'isMobileHotJob', 'isMobileTopJob',\n",
    "       'isBoldAndRedJob', 'isUrgentJob', 'isUrgentJobM', 'onlineOn',\n",
    "       'visibilityDisplay', 'priorityOrder', 'nearestGeoLoc','profilePublishedSiteMask']\n",
    "df.columns"
   ]
  },
  {
   "cell_type": "markdown",
   "metadata": {},
   "source": [
    "<h5> <i>4. Meaning of rows</i> </h5>"
   ]
  },
  {
   "cell_type": "markdown",
   "metadata": {},
   "source": [
    "Each row is an recruitment information for a job. "
   ]
  },
  {
   "cell_type": "markdown",
   "metadata": {},
   "source": [
    "<h5><i>5. Check duplicated data </i></h5>"
   ]
  },
  {
   "cell_type": "code",
   "execution_count": 8,
   "metadata": {},
   "outputs": [
    {
     "data": {
      "text/plain": [
       "86"
      ]
     },
     "execution_count": 8,
     "metadata": {},
     "output_type": "execute_result"
    }
   ],
   "source": [
    "df[df.duplicated()].shape[0]"
   ]
  },
  {
   "cell_type": "markdown",
   "metadata": {},
   "source": [
    "**Note**: Dataset has 22 duplicated data and we will drop it in preprocessing data"
   ]
  },
  {
   "cell_type": "markdown",
   "metadata": {},
   "source": [
    "<h5><i>6. View some important columns </i></h5>"
   ]
  },
  {
   "cell_type": "markdown",
   "metadata": {},
   "source": [
    "*6.1. Columns \"salary\", \"salaryMax\", \"salaryMin\", \"prettySalary\"*"
   ]
  },
  {
   "cell_type": "code",
   "execution_count": 9,
   "metadata": {},
   "outputs": [
    {
     "data": {
      "text/html": [
       "<div>\n",
       "<style scoped>\n",
       "    .dataframe tbody tr th:only-of-type {\n",
       "        vertical-align: middle;\n",
       "    }\n",
       "\n",
       "    .dataframe tbody tr th {\n",
       "        vertical-align: top;\n",
       "    }\n",
       "\n",
       "    .dataframe thead th {\n",
       "        text-align: right;\n",
       "    }\n",
       "</style>\n",
       "<table border=\"1\" class=\"dataframe\">\n",
       "  <thead>\n",
       "    <tr style=\"text-align: right;\">\n",
       "      <th></th>\n",
       "      <th>salary</th>\n",
       "      <th>salaryMax</th>\n",
       "      <th>salaryMin</th>\n",
       "      <th>prettySalary</th>\n",
       "    </tr>\n",
       "  </thead>\n",
       "  <tbody>\n",
       "    <tr>\n",
       "      <th>0</th>\n",
       "      <td>0</td>\n",
       "      <td>0</td>\n",
       "      <td>0</td>\n",
       "      <td>Thương lượng</td>\n",
       "    </tr>\n",
       "    <tr>\n",
       "      <th>1</th>\n",
       "      <td>0</td>\n",
       "      <td>0</td>\n",
       "      <td>0</td>\n",
       "      <td>Thương lượng</td>\n",
       "    </tr>\n",
       "    <tr>\n",
       "      <th>2</th>\n",
       "      <td>800</td>\n",
       "      <td>800</td>\n",
       "      <td>400</td>\n",
       "      <td>$400 - $800</td>\n",
       "    </tr>\n",
       "    <tr>\n",
       "      <th>3</th>\n",
       "      <td>840</td>\n",
       "      <td>840</td>\n",
       "      <td>336</td>\n",
       "      <td>$336 - $840</td>\n",
       "    </tr>\n",
       "    <tr>\n",
       "      <th>4</th>\n",
       "      <td>0</td>\n",
       "      <td>0</td>\n",
       "      <td>0</td>\n",
       "      <td>Thương lượng</td>\n",
       "    </tr>\n",
       "    <tr>\n",
       "      <th>...</th>\n",
       "      <td>...</td>\n",
       "      <td>...</td>\n",
       "      <td>...</td>\n",
       "      <td>...</td>\n",
       "    </tr>\n",
       "    <tr>\n",
       "      <th>8995</th>\n",
       "      <td>1300</td>\n",
       "      <td>1300</td>\n",
       "      <td>800</td>\n",
       "      <td>$800 - $1300</td>\n",
       "    </tr>\n",
       "    <tr>\n",
       "      <th>8996</th>\n",
       "      <td>1000</td>\n",
       "      <td>1000</td>\n",
       "      <td>500</td>\n",
       "      <td>$500 - $1000</td>\n",
       "    </tr>\n",
       "    <tr>\n",
       "      <th>8997</th>\n",
       "      <td>0</td>\n",
       "      <td>0</td>\n",
       "      <td>0</td>\n",
       "      <td>Thương lượng</td>\n",
       "    </tr>\n",
       "    <tr>\n",
       "      <th>8998</th>\n",
       "      <td>900</td>\n",
       "      <td>900</td>\n",
       "      <td>450</td>\n",
       "      <td>$450 - $900</td>\n",
       "    </tr>\n",
       "    <tr>\n",
       "      <th>8999</th>\n",
       "      <td>0</td>\n",
       "      <td>0</td>\n",
       "      <td>0</td>\n",
       "      <td>Thương lượng</td>\n",
       "    </tr>\n",
       "  </tbody>\n",
       "</table>\n",
       "<p>9000 rows × 4 columns</p>\n",
       "</div>"
      ],
      "text/plain": [
       "      salary  salaryMax  salaryMin  prettySalary\n",
       "0          0          0          0  Thương lượng\n",
       "1          0          0          0  Thương lượng\n",
       "2        800        800        400   $400 - $800\n",
       "3        840        840        336   $336 - $840\n",
       "4          0          0          0  Thương lượng\n",
       "...      ...        ...        ...           ...\n",
       "8995    1300       1300        800  $800 - $1300\n",
       "8996    1000       1000        500  $500 - $1000\n",
       "8997       0          0          0  Thương lượng\n",
       "8998     900        900        450   $450 - $900\n",
       "8999       0          0          0  Thương lượng\n",
       "\n",
       "[9000 rows x 4 columns]"
      ]
     },
     "execution_count": 9,
     "metadata": {},
     "output_type": "execute_result"
    }
   ],
   "source": [
    "df[[\"salary\",\"salaryMax\",\"salaryMin\", \"prettySalary\"]]"
   ]
  },
  {
   "cell_type": "code",
   "execution_count": 10,
   "metadata": {},
   "outputs": [
    {
     "data": {
      "text/html": [
       "<div>\n",
       "<style scoped>\n",
       "    .dataframe tbody tr th:only-of-type {\n",
       "        vertical-align: middle;\n",
       "    }\n",
       "\n",
       "    .dataframe tbody tr th {\n",
       "        vertical-align: top;\n",
       "    }\n",
       "\n",
       "    .dataframe thead th {\n",
       "        text-align: right;\n",
       "    }\n",
       "</style>\n",
       "<table border=\"1\" class=\"dataframe\">\n",
       "  <thead>\n",
       "    <tr style=\"text-align: right;\">\n",
       "      <th></th>\n",
       "      <th>salary</th>\n",
       "      <th>salaryMax</th>\n",
       "      <th>salaryMin</th>\n",
       "    </tr>\n",
       "  </thead>\n",
       "  <tbody>\n",
       "    <tr>\n",
       "      <th>0</th>\n",
       "      <td>0</td>\n",
       "      <td>0</td>\n",
       "      <td>0</td>\n",
       "    </tr>\n",
       "    <tr>\n",
       "      <th>1</th>\n",
       "      <td>0</td>\n",
       "      <td>0</td>\n",
       "      <td>0</td>\n",
       "    </tr>\n",
       "    <tr>\n",
       "      <th>4</th>\n",
       "      <td>0</td>\n",
       "      <td>0</td>\n",
       "      <td>0</td>\n",
       "    </tr>\n",
       "    <tr>\n",
       "      <th>5</th>\n",
       "      <td>0</td>\n",
       "      <td>0</td>\n",
       "      <td>0</td>\n",
       "    </tr>\n",
       "    <tr>\n",
       "      <th>6</th>\n",
       "      <td>0</td>\n",
       "      <td>0</td>\n",
       "      <td>0</td>\n",
       "    </tr>\n",
       "    <tr>\n",
       "      <th>...</th>\n",
       "      <td>...</td>\n",
       "      <td>...</td>\n",
       "      <td>...</td>\n",
       "    </tr>\n",
       "    <tr>\n",
       "      <th>8990</th>\n",
       "      <td>0</td>\n",
       "      <td>0</td>\n",
       "      <td>0</td>\n",
       "    </tr>\n",
       "    <tr>\n",
       "      <th>8993</th>\n",
       "      <td>0</td>\n",
       "      <td>0</td>\n",
       "      <td>0</td>\n",
       "    </tr>\n",
       "    <tr>\n",
       "      <th>8994</th>\n",
       "      <td>0</td>\n",
       "      <td>0</td>\n",
       "      <td>0</td>\n",
       "    </tr>\n",
       "    <tr>\n",
       "      <th>8997</th>\n",
       "      <td>0</td>\n",
       "      <td>0</td>\n",
       "      <td>0</td>\n",
       "    </tr>\n",
       "    <tr>\n",
       "      <th>8999</th>\n",
       "      <td>0</td>\n",
       "      <td>0</td>\n",
       "      <td>0</td>\n",
       "    </tr>\n",
       "  </tbody>\n",
       "</table>\n",
       "<p>5729 rows × 3 columns</p>\n",
       "</div>"
      ],
      "text/plain": [
       "      salary  salaryMax  salaryMin\n",
       "0          0          0          0\n",
       "1          0          0          0\n",
       "4          0          0          0\n",
       "5          0          0          0\n",
       "6          0          0          0\n",
       "...      ...        ...        ...\n",
       "8990       0          0          0\n",
       "8993       0          0          0\n",
       "8994       0          0          0\n",
       "8997       0          0          0\n",
       "8999       0          0          0\n",
       "\n",
       "[5729 rows x 3 columns]"
      ]
     },
     "execution_count": 10,
     "metadata": {},
     "output_type": "execute_result"
    }
   ],
   "source": [
    "df[df[\"prettySalary\"] == \"Thương lượng\"][[\"salary\",\"salaryMax\",\"salaryMin\"]]"
   ]
  },
  {
   "cell_type": "markdown",
   "metadata": {},
   "source": [
    "**Note**: We can see having 5729 rows which prettySalary are \"Thương lượng\", so from that, i have an idea => This is the exercise of prediction about salary based on available data which is not missed"
   ]
  },
  {
   "cell_type": "markdown",
   "metadata": {},
   "source": [
    "*6.2. Columns \"skills\", \"benefits\", \"workingLocations\", \"industries\"*"
   ]
  },
  {
   "cell_type": "code",
   "execution_count": 11,
   "metadata": {},
   "outputs": [
    {
     "name": "stdout",
     "output_type": "stream",
     "text": [
      "[{'benefitId': 1, 'benefitIconName': 'fa-dollar', 'benefitName': 'Bonus', 'benefitNameVI': 'Thưởng', 'benefitValue': 'MỨC LƯƠNG THỎA THUẬN THEO NĂNG LỰC'}, {'benefitId': 2, 'benefitIconName': 'fa-user-md', 'benefitName': 'Healthcare Plan', 'benefitNameVI': 'Chăm sóc sức khoẻ', 'benefitValue': 'PHÚC LỢI THEO CHẾ ĐỘ CỦA CÔNG TY ( BẢO HIỂM , TIỀN NHÀ Ở , TIỀN TĂNG CA ,..)'}, {'benefitId': 11, 'benefitIconName': 'fa-cab', 'benefitName': 'Transportation', 'benefitNameVI': 'Xe đưa đón', 'benefitValue': 'HỖ TRỢ CHI PHÍ ĐI LẠI: 300K'}]\n",
      "[{'skillId': 385, 'skillWeight': 100, 'skillName': 'Tiếng Trung'}, {'skillId': 224, 'skillWeight': 100, 'skillName': 'Tiếng Anh'}, {'skillId': 103, 'skillWeight': 100, 'skillName': 'Hành Chính'}, {'skillId': 71, 'skillWeight': 100, 'skillName': 'Phiên Dịch'}, {'skillId': 699735, 'skillWeight': 100, 'skillName': 'Tương Tác Khách Hàng'}]\n",
      "[{'workingLocationId': 94558, 'addressId': 54806, 'cityId': 5, 'districtId': 0, 'address': 'KCN Vân Trung, xã Vân Trung, huyện Việt Yên, Bắc Giang, Việt Nam', 'geoLoc': {'lat': 21.243403, 'lon': 106.129662}, 'cityName': 'Bac Giang', 'cityNameVI': 'Bắc Giang'}]\n",
      "[{'industryId': 2, 'industryName': 'Administrative/Clerical', 'industryNameVI': 'Hành chánh/Thư ký'}, {'industryId': 11, 'industryName': 'Customer Service', 'industryNameVI': 'Dịch vụ khách hàng'}, {'industryId': 47, 'industryName': 'Interpreter/Translator', 'industryNameVI': 'Biên phiên dịch'}]\n"
     ]
    }
   ],
   "source": [
    "print(df[\"benefits\"][0])\n",
    "print(df[\"skills\"][0])\n",
    "print(df[\"workingLocations\"][0])\n",
    "print(df[\"industries\"][0])"
   ]
  },
  {
   "cell_type": "markdown",
   "metadata": {},
   "source": [
    "**Note**: We can see in columns above, we need to split it and I feel we only need 2 attributes such as: Id and Name"
   ]
  },
  {
   "cell_type": "markdown",
   "metadata": {},
   "source": [
    "*6.3. Columns \"companySize\", \"lalanguageSelected\", \"jobLevelId\", \"jobLevel\", \"numOfApplications\"*"
   ]
  },
  {
   "cell_type": "code",
   "execution_count": 39,
   "metadata": {},
   "outputs": [
    {
     "data": {
      "text/html": [
       "<div>\n",
       "<style scoped>\n",
       "    .dataframe tbody tr th:only-of-type {\n",
       "        vertical-align: middle;\n",
       "    }\n",
       "\n",
       "    .dataframe tbody tr th {\n",
       "        vertical-align: top;\n",
       "    }\n",
       "\n",
       "    .dataframe thead th {\n",
       "        text-align: right;\n",
       "    }\n",
       "</style>\n",
       "<table border=\"1\" class=\"dataframe\">\n",
       "  <thead>\n",
       "    <tr style=\"text-align: right;\">\n",
       "      <th></th>\n",
       "      <th>companySize</th>\n",
       "      <th>languageSelected</th>\n",
       "      <th>jobLevelId</th>\n",
       "      <th>jobLevel</th>\n",
       "    </tr>\n",
       "  </thead>\n",
       "  <tbody>\n",
       "    <tr>\n",
       "      <th>0</th>\n",
       "      <td>Over 50,000</td>\n",
       "      <td>Any</td>\n",
       "      <td>5</td>\n",
       "      <td>Experienced (non-manager)</td>\n",
       "    </tr>\n",
       "    <tr>\n",
       "      <th>1</th>\n",
       "      <td>100-499</td>\n",
       "      <td>Any</td>\n",
       "      <td>5</td>\n",
       "      <td>Experienced (non-manager)</td>\n",
       "    </tr>\n",
       "    <tr>\n",
       "      <th>2</th>\n",
       "      <td>Less Than 10</td>\n",
       "      <td>Any</td>\n",
       "      <td>5</td>\n",
       "      <td>Experienced (non-manager)</td>\n",
       "    </tr>\n",
       "    <tr>\n",
       "      <th>3</th>\n",
       "      <td>10-24</td>\n",
       "      <td>Any</td>\n",
       "      <td>5</td>\n",
       "      <td>Experienced (non-manager)</td>\n",
       "    </tr>\n",
       "    <tr>\n",
       "      <th>4</th>\n",
       "      <td>100-499</td>\n",
       "      <td>Any</td>\n",
       "      <td>7</td>\n",
       "      <td>Manager</td>\n",
       "    </tr>\n",
       "    <tr>\n",
       "      <th>...</th>\n",
       "      <td>...</td>\n",
       "      <td>...</td>\n",
       "      <td>...</td>\n",
       "      <td>...</td>\n",
       "    </tr>\n",
       "    <tr>\n",
       "      <th>8995</th>\n",
       "      <td>100-499</td>\n",
       "      <td>Any</td>\n",
       "      <td>5</td>\n",
       "      <td>Experienced (non-manager)</td>\n",
       "    </tr>\n",
       "    <tr>\n",
       "      <th>8996</th>\n",
       "      <td>100-499</td>\n",
       "      <td>Any</td>\n",
       "      <td>5</td>\n",
       "      <td>Experienced (non-manager)</td>\n",
       "    </tr>\n",
       "    <tr>\n",
       "      <th>8997</th>\n",
       "      <td>NaN</td>\n",
       "      <td>Any</td>\n",
       "      <td>5</td>\n",
       "      <td>Experienced (non-manager)</td>\n",
       "    </tr>\n",
       "    <tr>\n",
       "      <th>8998</th>\n",
       "      <td>25-99</td>\n",
       "      <td>Any</td>\n",
       "      <td>1</td>\n",
       "      <td>Fresher/Entry level</td>\n",
       "    </tr>\n",
       "    <tr>\n",
       "      <th>8999</th>\n",
       "      <td>100-499</td>\n",
       "      <td>Any</td>\n",
       "      <td>3</td>\n",
       "      <td>Director and above</td>\n",
       "    </tr>\n",
       "  </tbody>\n",
       "</table>\n",
       "<p>9000 rows × 4 columns</p>\n",
       "</div>"
      ],
      "text/plain": [
       "       companySize languageSelected  jobLevelId                   jobLevel\n",
       "0      Over 50,000              Any           5  Experienced (non-manager)\n",
       "1          100-499              Any           5  Experienced (non-manager)\n",
       "2     Less Than 10              Any           5  Experienced (non-manager)\n",
       "3            10-24              Any           5  Experienced (non-manager)\n",
       "4          100-499              Any           7                    Manager\n",
       "...            ...              ...         ...                        ...\n",
       "8995       100-499              Any           5  Experienced (non-manager)\n",
       "8996       100-499              Any           5  Experienced (non-manager)\n",
       "8997           NaN              Any           5  Experienced (non-manager)\n",
       "8998         25-99              Any           1        Fresher/Entry level\n",
       "8999       100-499              Any           3         Director and above\n",
       "\n",
       "[9000 rows x 4 columns]"
      ]
     },
     "execution_count": 39,
     "metadata": {},
     "output_type": "execute_result"
    }
   ],
   "source": [
    "df[[\"companySize\",\"languageSelected\",\"jobLevelId\",\"jobLevel\"]]"
   ]
  },
  {
   "cell_type": "markdown",
   "metadata": {},
   "source": [
    "**companySize - salary**"
   ]
  },
  {
   "cell_type": "code",
   "execution_count": 37,
   "metadata": {},
   "outputs": [],
   "source": [
    "size_salary = df.groupby(\"companySize\")['salary'].mean().sort_values()"
   ]
  },
  {
   "cell_type": "code",
   "execution_count": 46,
   "metadata": {},
   "outputs": [
    {
     "name": "stdout",
     "output_type": "stream",
     "text": [
      "10\n"
     ]
    }
   ],
   "source": [
    "range_size = df[\"companySize\"].value_counts().size\n",
    "print(range_size)"
   ]
  },
  {
   "cell_type": "code",
   "execution_count": 51,
   "metadata": {},
   "outputs": [
    {
     "data": {
      "image/png": "[encoded data removed]",
      "text/plain": [
       "<Figure size 1400x800 with 1 Axes>"
      ]
     },
     "metadata": {},
     "output_type": "display_data"
    }
   ],
   "source": [
    "plt.figure(figsize=(14,8))\n",
    "plt.bar(size_salary.index, size_salary.values)\n",
    "plt.xticks(range(0,range_size))\n",
    "plt.xticks(rotation = -45)\n",
    "plt.xlabel('Company Size')\n",
    "plt.ylabel('Salary')\n",
    "plt.title(\"The effect of company size on salary\")\n",
    "plt.show()"
   ]
  },
  {
   "cell_type": "markdown",
   "metadata": {},
   "source": [
    "**Note**: At first, I think the size of company is bigger so the salary is higher but when I see the graph above, the size of company is bigger so the salary is smaller (I think the reason is the big company only recruit employees with the low level of job) => From that we should consider it when implement the exercise about predicting salary. "
   ]
  },
  {
   "cell_type": "markdown",
   "metadata": {},
   "source": [
    "**languageSelected - salary**"
   ]
  },
  {
   "cell_type": "code",
   "execution_count": 48,
   "metadata": {},
   "outputs": [],
   "source": [
    "language_salary = df.groupby(\"languageSelected\")['salary'].mean().sort_values()"
   ]
  },
  {
   "cell_type": "code",
   "execution_count": 49,
   "metadata": {},
   "outputs": [
    {
     "name": "stdout",
     "output_type": "stream",
     "text": [
      "7\n"
     ]
    }
   ],
   "source": [
    "range_language = df[\"languageSelected\"].value_counts().size\n",
    "print(range_language)"
   ]
  },
  {
   "cell_type": "code",
   "execution_count": 54,
   "metadata": {},
   "outputs": [
    {
     "data": {
      "image/png": "[encoded data removed]",
      "text/plain": [
       "<Figure size 1400x800 with 1 Axes>"
      ]
     },
     "metadata": {},
     "output_type": "display_data"
    }
   ],
   "source": [
    "plt.figure(figsize=(14,8))\n",
    "plt.bar(language_salary.index, language_salary.values)\n",
    "plt.xticks(range(0,range_language))\n",
    "plt.xticks(rotation = -45)\n",
    "plt.xlabel('Language selected')\n",
    "plt.ylabel('Salary')\n",
    "plt.title(\"The effect of language selected on salary\")\n",
    "plt.show()"
   ]
  },
  {
   "cell_type": "markdown",
   "metadata": {},
   "source": [
    "**Note**: VietNamese language with highest salary ???. I also think salary for the job has foreign language will be highest. Maybe it is the same reason with companySize, it depends on jobLevel."
   ]
  },
  {
   "cell_type": "markdown",
   "metadata": {},
   "source": [
    "**jobLevel - salary**"
   ]
  },
  {
   "cell_type": "code",
   "execution_count": 55,
   "metadata": {},
   "outputs": [],
   "source": [
    "joblevel_salary = df.groupby(\"jobLevel\")['salary'].mean().sort_values()"
   ]
  },
  {
   "cell_type": "code",
   "execution_count": 56,
   "metadata": {},
   "outputs": [
    {
     "name": "stdout",
     "output_type": "stream",
     "text": [
      "5\n"
     ]
    }
   ],
   "source": [
    "range_joblevel = df[\"jobLevel\"].value_counts().size\n",
    "print(range_joblevel)"
   ]
  },
  {
   "cell_type": "code",
   "execution_count": 57,
   "metadata": {},
   "outputs": [
    {
     "data": {
      "image/png": "[encoded data removed]",
      "text/plain": [
       "<Figure size 1400x800 with 1 Axes>"
      ]
     },
     "metadata": {},
     "output_type": "display_data"
    }
   ],
   "source": [
    "plt.figure(figsize=(14,8))\n",
    "plt.bar(joblevel_salary.index, joblevel_salary.values)\n",
    "plt.xticks(range(0,range_joblevel))\n",
    "plt.xticks(rotation = -45)\n",
    "plt.xlabel('Job level')\n",
    "plt.ylabel('Salary')\n",
    "plt.title(\"The effect of job level on salary\")\n",
    "plt.show()"
   ]
  },
  {
   "cell_type": "code",
   "execution_count": 64,
   "metadata": {},
   "outputs": [
    {
     "data": {
      "text/plain": [
       "jobLevelId\n",
       "1          [Fresher/Entry level]\n",
       "3           [Director and above]\n",
       "5    [Experienced (non-manager)]\n",
       "7                      [Manager]\n",
       "8               [Intern/Student]\n",
       "Name: jobLevel, dtype: object"
      ]
     },
     "execution_count": 64,
     "metadata": {},
     "output_type": "execute_result"
    }
   ],
   "source": [
    "df.groupby('jobLevelId')['jobLevel'].unique()"
   ]
  },
  {
   "cell_type": "markdown",
   "metadata": {},
   "source": [
    "**Note**: Salary is depends on jobLevel => The jobLevel is higher so the salary is higher. Look at jobLevelId, I will see jobLevel is not according to any rules so we can only train on jobLevel or change jobLevelId to be suitable with jobLevel "
   ]
  },
  {
   "cell_type": "markdown",
   "metadata": {},
   "source": [
    "**numOfApplications - salary**"
   ]
  },
  {
   "cell_type": "code",
   "execution_count": 80,
   "metadata": {},
   "outputs": [],
   "source": [
    "applications_salary = df.groupby(\"numOfApplications\")['salary'].mean().sort_values()"
   ]
  },
  {
   "cell_type": "code",
   "execution_count": 76,
   "metadata": {},
   "outputs": [
    {
     "name": "stdout",
     "output_type": "stream",
     "text": [
      "344\n"
     ]
    }
   ],
   "source": [
    "range_applications = df[\"numOfApplications\"].value_counts().size\n",
    "print(range_applications)"
   ]
  },
  {
   "cell_type": "code",
   "execution_count": 82,
   "metadata": {},
   "outputs": [
    {
     "data": {
      "image/png": "[encoded data removed]",
      "text/plain": [
       "<Figure size 1400x800 with 1 Axes>"
      ]
     },
     "metadata": {},
     "output_type": "display_data"
    }
   ],
   "source": [
    "plt.figure(figsize=(14,8))\n",
    "plt.bar(applications_salary.index.astype(str), applications_salary.values)\n",
    "plt.xticks(range(0,range_applications,10))\n",
    "plt.xticks(rotation = -45)\n",
    "plt.xlabel('Number of applications')\n",
    "plt.ylabel('Salary')\n",
    "plt.title(\"The effect of number of applications on salary\")\n",
    "plt.show()"
   ]
  },
  {
   "cell_type": "markdown",
   "metadata": {},
   "source": [
    "**Note**: Because we have a lot of values about number of applications so the graph above will not show the relationship between number of applications and salary so we need to preprocess it (Maybe we put each number of application into each scope) "
   ]
  },
  {
   "cell_type": "markdown",
   "metadata": {},
   "source": [
    "<hr/>\n",
    "\n",
    "<h4><b> Summary</b><h4>"
   ]
  },
  {
   "cell_type": "markdown",
   "metadata": {},
   "source": [
    "*<u>1. Shape:</u>* (9000,70)\n",
    "\n",
    "*<u>2. Overview information of each column:</u>* A lot of columns are missed all values \n",
    "\n",
    "=> **Data Preprocessing:** Drop all columns which miss all values and fill out mean, median or mode in columns which miss some values\n",
    "\n",
    "*<u>3. Meaning of columns:</u>*\n",
    "\n",
    "=> **Data Preprocessing:** Drop columns which not have role with exercise.\n",
    "\n",
    "*<u>4. Meaning of rows:</u>* Each row is an recruitment information for a job. \n",
    "\n",
    "*<u>5. Check duplicated data:</u>* Data has 22 duplicated data\n",
    "\n",
    "=> **Data Preprocessing:** Drop this duplicated data.\n",
    "\n",
    "*<u>6. View some important columns:</u>* Data has 22 duplicated data\n",
    "\n",
    "*6.1. Columns \"salary\", \"salaryMax\", \"salaryMin\", \"prettySalary\"*\n",
    "\n",
    "=> **Data Preprocessing:** Using rows which have \"Thương lượng\" in salary to do test set. (We can only get 3000 in this rows and we will fill out all )\n",
    "\n",
    "*6.2. Columns \"skills\", \"benefits\", \"workingLocations\", \"industries\"*\n",
    "\n",
    "=> **Data Preprocessing:** Split each this column to id and name\n",
    "\n",
    "*6.3. Columns \"companySize\", \"lalanguageSelected\", \"jobLevelId\", \"jobLevel\", \"numOfApplications\"*\n",
    "\n",
    "+ companySize - salary: Inverse relationship\n",
    "+ languageSelected - salary: Unknown\n",
    "+ jobLevel - salary: Covariate relationship\n",
    "+ numOfApplications - salary: Unknown \n",
    "\n",
    "=> **Data Preprocessing:** Put each number of application into each scope\n",
    "\n",
    "**Note**:\n",
    "\n",
    "**Covariate relationship** between a and b: a increase, b increase\n",
    "\n",
    "**Inverse relationship** between a and b: a increase, b decrease and opposite.\n",
    "\n",
    "\n",
    "\n"
   ]
  }
 ],
 "metadata": {
  "kernelspec": {
   "display_name": "Python 3",
   "language": "python",
   "name": "python3"
  },
  "language_info": {
   "codemirror_mode": {
    "name": "ipython",
    "version": 3
   },
   "file_extension": ".py",
   "mimetype": "text/x-python",
   "name": "python",
   "nbconvert_exporter": "python",
   "pygments_lexer": "ipython3",
   "version": "3.9.0"
  },
  "orig_nbformat": 4
 },
 "nbformat": 4,
 "nbformat_minor": 2
}
